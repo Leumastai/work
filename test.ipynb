{
 "cells": [
  {
   "cell_type": "code",
   "execution_count": null,
   "metadata": {},
   "outputs": [],
   "source": [
    "## Do normal data ingestion from whnece there're coming from"
   ]
  },
  {
   "cell_type": "code",
   "execution_count": 2,
   "metadata": {},
   "outputs": [
    {
     "name": "stdout",
     "output_type": "stream",
     "text": [
      "Uploaded 2018-08-31.pkl to ccf-detection-demo/raw-data-unvalidated.\n",
      "Uploaded 2018-05-31.pkl to ccf-detection-demo/raw-data-unvalidated.\n",
      "Uploaded 2018-06-21.pkl to ccf-detection-demo/raw-data-unvalidated.\n",
      "Uploaded 2018-09-20.pkl to ccf-detection-demo/raw-data-unvalidated.\n",
      "Uploaded 2018-09-23.pkl to ccf-detection-demo/raw-data-unvalidated.\n",
      "Uploaded 2018-04-14.pkl to ccf-detection-demo/raw-data-unvalidated.\n",
      "Uploaded 2018-04-27.pkl to ccf-detection-demo/raw-data-unvalidated.\n",
      "Uploaded 2018-05-08.pkl to ccf-detection-demo/raw-data-unvalidated.\n",
      "Uploaded 2018-07-31.pkl to ccf-detection-demo/raw-data-unvalidated.\n",
      "Uploaded 2018-06-04.pkl to ccf-detection-demo/raw-data-unvalidated.\n",
      "Uploaded 2018-07-12.pkl to ccf-detection-demo/raw-data-unvalidated.\n",
      "Uploaded 2018-06-18.pkl to ccf-detection-demo/raw-data-unvalidated.\n",
      "Uploaded 2018-09-01.pkl to ccf-detection-demo/raw-data-unvalidated.\n",
      "Uploaded 2018-05-17.pkl to ccf-detection-demo/raw-data-unvalidated.\n",
      "Uploaded 2018-08-01.pkl to ccf-detection-demo/raw-data-unvalidated.\n",
      "Uploaded 2018-04-02.pkl to ccf-detection-demo/raw-data-unvalidated.\n",
      "Uploaded 2018-06-20.pkl to ccf-detection-demo/raw-data-unvalidated.\n",
      "Uploaded 2018-04-10.pkl to ccf-detection-demo/raw-data-unvalidated.\n",
      "Uploaded 2018-09-27.pkl to ccf-detection-demo/raw-data-unvalidated.\n",
      "Uploaded 2018-09-28.pkl to ccf-detection-demo/raw-data-unvalidated.\n",
      "Uploaded 2018-05-04.pkl to ccf-detection-demo/raw-data-unvalidated.\n",
      "Uploaded 2018-08-17.pkl to ccf-detection-demo/raw-data-unvalidated.\n",
      "Uploaded 2018-07-30.pkl to ccf-detection-demo/raw-data-unvalidated.\n",
      "Uploaded 2018-07-16.pkl to ccf-detection-demo/raw-data-unvalidated.\n",
      "Uploaded 2018-05-01.pkl to ccf-detection-demo/raw-data-unvalidated.\n",
      "Uploaded 2018-08-19.pkl to ccf-detection-demo/raw-data-unvalidated.\n",
      "Uploaded 2018-07-17.pkl to ccf-detection-demo/raw-data-unvalidated.\n",
      "Uploaded 2018-09-19.pkl to ccf-detection-demo/raw-data-unvalidated.\n",
      "Uploaded 2018-07-25.pkl to ccf-detection-demo/raw-data-unvalidated.\n",
      "Uploaded 2018-05-22.pkl to ccf-detection-demo/raw-data-unvalidated.\n",
      "Uploaded 2018-09-25.pkl to ccf-detection-demo/raw-data-unvalidated.\n",
      "Uploaded 2018-04-03.pkl to ccf-detection-demo/raw-data-unvalidated.\n",
      "Uploaded 2018-04-23.pkl to ccf-detection-demo/raw-data-unvalidated.\n",
      "Uploaded 2018-09-13.pkl to ccf-detection-demo/raw-data-unvalidated.\n",
      "Uploaded 2018-08-04.pkl to ccf-detection-demo/raw-data-unvalidated.\n",
      "Uploaded 2018-08-24.pkl to ccf-detection-demo/raw-data-unvalidated.\n",
      "Uploaded 2018-06-10.pkl to ccf-detection-demo/raw-data-unvalidated.\n",
      "Uploaded 2018-04-15.pkl to ccf-detection-demo/raw-data-unvalidated.\n",
      "Uploaded 2018-04-18.pkl to ccf-detection-demo/raw-data-unvalidated.\n",
      "Uploaded 2018-04-05.pkl to ccf-detection-demo/raw-data-unvalidated.\n",
      "Uploaded 2018-08-08.pkl to ccf-detection-demo/raw-data-unvalidated.\n",
      "Uploaded 2018-04-20.pkl to ccf-detection-demo/raw-data-unvalidated.\n",
      "Uploaded 2018-07-27.pkl to ccf-detection-demo/raw-data-unvalidated.\n",
      "Uploaded 2018-04-11.pkl to ccf-detection-demo/raw-data-unvalidated.\n",
      "Uploaded 2018-04-04.pkl to ccf-detection-demo/raw-data-unvalidated.\n",
      "Uploaded 2018-05-05.pkl to ccf-detection-demo/raw-data-unvalidated.\n",
      "Uploaded 2018-08-22.pkl to ccf-detection-demo/raw-data-unvalidated.\n",
      "Uploaded 2018-08-13.pkl to ccf-detection-demo/raw-data-unvalidated.\n",
      "Uploaded 2018-06-03.pkl to ccf-detection-demo/raw-data-unvalidated.\n",
      "Uploaded 2018-07-06.pkl to ccf-detection-demo/raw-data-unvalidated.\n",
      "Uploaded 2018-08-30.pkl to ccf-detection-demo/raw-data-unvalidated.\n",
      "Uploaded 2018-07-07.pkl to ccf-detection-demo/raw-data-unvalidated.\n",
      "Uploaded 2018-05-12.pkl to ccf-detection-demo/raw-data-unvalidated.\n",
      "Uploaded 2018-07-15.pkl to ccf-detection-demo/raw-data-unvalidated.\n",
      "Uploaded 2018-09-07.pkl to ccf-detection-demo/raw-data-unvalidated.\n",
      "Uploaded 2018-06-28.pkl to ccf-detection-demo/raw-data-unvalidated.\n",
      "Uploaded 2018-06-05.pkl to ccf-detection-demo/raw-data-unvalidated.\n",
      "Uploaded 2018-06-30.pkl to ccf-detection-demo/raw-data-unvalidated.\n",
      "Uploaded 2018-08-12.pkl to ccf-detection-demo/raw-data-unvalidated.\n",
      "Uploaded 2018-09-29.pkl to ccf-detection-demo/raw-data-unvalidated.\n",
      "Uploaded 2018-04-07.pkl to ccf-detection-demo/raw-data-unvalidated.\n",
      "Uploaded 2018-06-14.pkl to ccf-detection-demo/raw-data-unvalidated.\n",
      "Uploaded 2018-07-09.pkl to ccf-detection-demo/raw-data-unvalidated.\n",
      "Uploaded 2018-08-27.pkl to ccf-detection-demo/raw-data-unvalidated.\n",
      "Uploaded 2018-08-06.pkl to ccf-detection-demo/raw-data-unvalidated.\n",
      "Uploaded 2018-04-26.pkl to ccf-detection-demo/raw-data-unvalidated.\n",
      "Uploaded 2018-07-23.pkl to ccf-detection-demo/raw-data-unvalidated.\n",
      "Uploaded 2018-09-10.pkl to ccf-detection-demo/raw-data-unvalidated.\n",
      "Uploaded 2018-09-06.pkl to ccf-detection-demo/raw-data-unvalidated.\n",
      "Uploaded 2018-04-08.pkl to ccf-detection-demo/raw-data-unvalidated.\n",
      "Uploaded 2018-06-29.pkl to ccf-detection-demo/raw-data-unvalidated.\n",
      "Uploaded 2018-08-18.pkl to ccf-detection-demo/raw-data-unvalidated.\n",
      "Uploaded 2018-09-02.pkl to ccf-detection-demo/raw-data-unvalidated.\n",
      "Uploaded 2018-08-05.pkl to ccf-detection-demo/raw-data-unvalidated.\n",
      "Uploaded 2018-04-28.pkl to ccf-detection-demo/raw-data-unvalidated.\n",
      "Uploaded 2018-05-26.pkl to ccf-detection-demo/raw-data-unvalidated.\n",
      "Uploaded 2018-06-06.pkl to ccf-detection-demo/raw-data-unvalidated.\n",
      "Uploaded 2018-05-20.pkl to ccf-detection-demo/raw-data-unvalidated.\n",
      "Uploaded 2018-04-30.pkl to ccf-detection-demo/raw-data-unvalidated.\n",
      "Uploaded 2018-06-27.pkl to ccf-detection-demo/raw-data-unvalidated.\n",
      "Uploaded 2018-04-22.pkl to ccf-detection-demo/raw-data-unvalidated.\n",
      "Uploaded 2018-05-11.pkl to ccf-detection-demo/raw-data-unvalidated.\n",
      "Uploaded 2018-06-09.pkl to ccf-detection-demo/raw-data-unvalidated.\n",
      "Uploaded 2018-09-09.pkl to ccf-detection-demo/raw-data-unvalidated.\n",
      "Uploaded 2018-09-16.pkl to ccf-detection-demo/raw-data-unvalidated.\n",
      "Uploaded 2018-06-02.pkl to ccf-detection-demo/raw-data-unvalidated.\n",
      "Uploaded 2018-06-08.pkl to ccf-detection-demo/raw-data-unvalidated.\n",
      "Uploaded 2018-04-24.pkl to ccf-detection-demo/raw-data-unvalidated.\n",
      "Uploaded 2018-07-19.pkl to ccf-detection-demo/raw-data-unvalidated.\n",
      "Uploaded 2018-07-26.pkl to ccf-detection-demo/raw-data-unvalidated.\n",
      "Uploaded 2018-07-01.pkl to ccf-detection-demo/raw-data-unvalidated.\n",
      "Uploaded 2018-04-25.pkl to ccf-detection-demo/raw-data-unvalidated.\n",
      "Uploaded 2018-08-28.pkl to ccf-detection-demo/raw-data-unvalidated.\n",
      "Uploaded 2018-06-01.pkl to ccf-detection-demo/raw-data-unvalidated.\n",
      "Uploaded 2018-09-17.pkl to ccf-detection-demo/raw-data-unvalidated.\n",
      "Uploaded 2018-07-21.pkl to ccf-detection-demo/raw-data-unvalidated.\n",
      "Uploaded 2018-07-28.pkl to ccf-detection-demo/raw-data-unvalidated.\n",
      "Uploaded 2018-04-29.pkl to ccf-detection-demo/raw-data-unvalidated.\n",
      "Uploaded 2018-07-11.pkl to ccf-detection-demo/raw-data-unvalidated.\n",
      "Uploaded 2018-09-12.pkl to ccf-detection-demo/raw-data-unvalidated.\n",
      "Uploaded 2018-08-09.pkl to ccf-detection-demo/raw-data-unvalidated.\n",
      "Uploaded 2018-04-06.pkl to ccf-detection-demo/raw-data-unvalidated.\n",
      "Uploaded 2018-08-03.pkl to ccf-detection-demo/raw-data-unvalidated.\n",
      "Uploaded 2018-05-14.pkl to ccf-detection-demo/raw-data-unvalidated.\n",
      "Uploaded 2018-08-26.pkl to ccf-detection-demo/raw-data-unvalidated.\n",
      "Uploaded 2018-08-11.pkl to ccf-detection-demo/raw-data-unvalidated.\n",
      "Uploaded 2018-05-02.pkl to ccf-detection-demo/raw-data-unvalidated.\n",
      "Uploaded 2018-06-24.pkl to ccf-detection-demo/raw-data-unvalidated.\n",
      "Uploaded 2018-09-18.pkl to ccf-detection-demo/raw-data-unvalidated.\n",
      "Uploaded 2018-04-13.pkl to ccf-detection-demo/raw-data-unvalidated.\n",
      "Uploaded 2018-05-16.pkl to ccf-detection-demo/raw-data-unvalidated.\n",
      "Uploaded 2018-05-10.pkl to ccf-detection-demo/raw-data-unvalidated.\n",
      "Uploaded 2018-09-11.pkl to ccf-detection-demo/raw-data-unvalidated.\n",
      "Uploaded 2018-09-03.pkl to ccf-detection-demo/raw-data-unvalidated.\n",
      "Uploaded 2018-06-26.pkl to ccf-detection-demo/raw-data-unvalidated.\n",
      "Uploaded 2018-05-24.pkl to ccf-detection-demo/raw-data-unvalidated.\n",
      "Uploaded 2018-09-22.pkl to ccf-detection-demo/raw-data-unvalidated.\n",
      "Uploaded 2018-05-18.pkl to ccf-detection-demo/raw-data-unvalidated.\n",
      "Uploaded 2018-06-12.pkl to ccf-detection-demo/raw-data-unvalidated.\n",
      "Uploaded 2018-09-08.pkl to ccf-detection-demo/raw-data-unvalidated.\n",
      "Uploaded 2018-05-25.pkl to ccf-detection-demo/raw-data-unvalidated.\n",
      "Uploaded 2018-06-22.pkl to ccf-detection-demo/raw-data-unvalidated.\n",
      "Uploaded 2018-08-25.pkl to ccf-detection-demo/raw-data-unvalidated.\n",
      "Uploaded 2018-05-29.pkl to ccf-detection-demo/raw-data-unvalidated.\n",
      "Uploaded 2018-05-03.pkl to ccf-detection-demo/raw-data-unvalidated.\n",
      "Uploaded 2018-08-21.pkl to ccf-detection-demo/raw-data-unvalidated.\n",
      "Uploaded 2018-09-05.pkl to ccf-detection-demo/raw-data-unvalidated.\n",
      "Uploaded 2018-07-02.pkl to ccf-detection-demo/raw-data-unvalidated.\n",
      "Uploaded 2018-05-23.pkl to ccf-detection-demo/raw-data-unvalidated.\n",
      "Uploaded 2018-07-14.pkl to ccf-detection-demo/raw-data-unvalidated.\n",
      "Uploaded 2018-04-21.pkl to ccf-detection-demo/raw-data-unvalidated.\n",
      "Uploaded 2018-09-24.pkl to ccf-detection-demo/raw-data-unvalidated.\n",
      "Uploaded 2018-05-07.pkl to ccf-detection-demo/raw-data-unvalidated.\n",
      "Uploaded 2018-07-18.pkl to ccf-detection-demo/raw-data-unvalidated.\n",
      "Uploaded 2018-07-03.pkl to ccf-detection-demo/raw-data-unvalidated.\n",
      "Uploaded 2018-09-26.pkl to ccf-detection-demo/raw-data-unvalidated.\n",
      "Uploaded 2018-04-12.pkl to ccf-detection-demo/raw-data-unvalidated.\n",
      "Uploaded 2018-06-07.pkl to ccf-detection-demo/raw-data-unvalidated.\n",
      "Uploaded 2018-09-14.pkl to ccf-detection-demo/raw-data-unvalidated.\n",
      "Uploaded 2018-08-16.pkl to ccf-detection-demo/raw-data-unvalidated.\n",
      "Uploaded 2018-04-17.pkl to ccf-detection-demo/raw-data-unvalidated.\n",
      "Uploaded 2018-04-16.pkl to ccf-detection-demo/raw-data-unvalidated.\n",
      "Uploaded 2018-05-09.pkl to ccf-detection-demo/raw-data-unvalidated.\n",
      "Uploaded 2018-09-04.pkl to ccf-detection-demo/raw-data-unvalidated.\n",
      "Uploaded 2018-05-06.pkl to ccf-detection-demo/raw-data-unvalidated.\n",
      "Uploaded 2018-09-15.pkl to ccf-detection-demo/raw-data-unvalidated.\n",
      "Uploaded 2018-06-25.pkl to ccf-detection-demo/raw-data-unvalidated.\n",
      "Uploaded 2018-08-02.pkl to ccf-detection-demo/raw-data-unvalidated.\n",
      "Uploaded 2018-07-22.pkl to ccf-detection-demo/raw-data-unvalidated.\n",
      "Uploaded 2018-07-10.pkl to ccf-detection-demo/raw-data-unvalidated.\n",
      "Uploaded 2018-06-23.pkl to ccf-detection-demo/raw-data-unvalidated.\n",
      "Uploaded 2018-04-19.pkl to ccf-detection-demo/raw-data-unvalidated.\n",
      "Uploaded 2018-05-21.pkl to ccf-detection-demo/raw-data-unvalidated.\n",
      "Uploaded 2018-07-04.pkl to ccf-detection-demo/raw-data-unvalidated.\n",
      "Uploaded 2018-07-05.pkl to ccf-detection-demo/raw-data-unvalidated.\n",
      "Uploaded 2018-07-13.pkl to ccf-detection-demo/raw-data-unvalidated.\n",
      "Uploaded 2018-08-20.pkl to ccf-detection-demo/raw-data-unvalidated.\n",
      "Uploaded 2018-08-23.pkl to ccf-detection-demo/raw-data-unvalidated.\n",
      "Uploaded 2018-05-30.pkl to ccf-detection-demo/raw-data-unvalidated.\n",
      "Uploaded 2018-08-29.pkl to ccf-detection-demo/raw-data-unvalidated.\n",
      "Uploaded 2018-09-21.pkl to ccf-detection-demo/raw-data-unvalidated.\n",
      "Uploaded 2018-05-27.pkl to ccf-detection-demo/raw-data-unvalidated.\n",
      "Uploaded 2018-06-11.pkl to ccf-detection-demo/raw-data-unvalidated.\n",
      "Uploaded 2018-05-28.pkl to ccf-detection-demo/raw-data-unvalidated.\n",
      "Uploaded 2018-06-19.pkl to ccf-detection-demo/raw-data-unvalidated.\n",
      "Uploaded 2018-08-10.pkl to ccf-detection-demo/raw-data-unvalidated.\n",
      "Uploaded 2018-08-14.pkl to ccf-detection-demo/raw-data-unvalidated.\n",
      "Uploaded 2018-05-13.pkl to ccf-detection-demo/raw-data-unvalidated.\n",
      "Uploaded 2018-05-19.pkl to ccf-detection-demo/raw-data-unvalidated.\n",
      "Uploaded 2018-04-09.pkl to ccf-detection-demo/raw-data-unvalidated.\n",
      "Uploaded 2018-08-07.pkl to ccf-detection-demo/raw-data-unvalidated.\n",
      "Uploaded 2018-06-17.pkl to ccf-detection-demo/raw-data-unvalidated.\n",
      "Uploaded 2018-07-29.pkl to ccf-detection-demo/raw-data-unvalidated.\n",
      "Uploaded 2018-04-01.pkl to ccf-detection-demo/raw-data-unvalidated.\n",
      "Uploaded 2018-05-15.pkl to ccf-detection-demo/raw-data-unvalidated.\n",
      "Uploaded 2018-07-20.pkl to ccf-detection-demo/raw-data-unvalidated.\n",
      "Uploaded 2018-07-24.pkl to ccf-detection-demo/raw-data-unvalidated.\n",
      "Uploaded 2018-09-30.pkl to ccf-detection-demo/raw-data-unvalidated.\n",
      "Uploaded 2018-06-13.pkl to ccf-detection-demo/raw-data-unvalidated.\n",
      "Uploaded 2018-07-08.pkl to ccf-detection-demo/raw-data-unvalidated.\n",
      "Uploaded 2018-08-15.pkl to ccf-detection-demo/raw-data-unvalidated.\n",
      "Uploaded 2018-06-15.pkl to ccf-detection-demo/raw-data-unvalidated.\n",
      "Uploaded 2018-06-16.pkl to ccf-detection-demo/raw-data-unvalidated.\n"
     ]
    }
   ],
   "source": [
    "from typing import *\n",
    "import boto3\n",
    "import time\n",
    "import os\n",
    "\n",
    "# raw-data-validated\n",
    "# raw-data-unvalidated\n",
    "\n",
    "## Data movement to Minio(Unvalidated) from producer\n",
    "# create a bucket\n",
    "import boto3\n",
    "from botocore.client import Config\n",
    "\n",
    "configs = {\n",
    "    \"MINIO_CONFIG\": {\n",
    "        \"MINIO_ENDPOINT\": \"http://localhost:8000\",\n",
    "        \"ACCESS_KEY\": \"nClicM9JjDdMFNYzhqGk\",\n",
    "        \"SECRET_KEY\": \"0w5OD1J6kBtjdGl7CYMovUxPZozcWpS08Yx0EBm0\",\n",
    "    }\n",
    "}\n",
    "\n",
    "s3_client = boto3.client(\n",
    "    \"s3\",\n",
    "    endpoint_url=configs[\"MINIO_CONFIG\"][\"MINIO_ENDPOINT\"],\n",
    "    aws_access_key_id=configs[\"MINIO_CONFIG\"][\"ACCESS_KEY\"],\n",
    "    aws_secret_access_key=configs[\"MINIO_CONFIG\"][\"SECRET_KEY\"],\n",
    "    config=Config(signature_version='s3v4')\n",
    ")\n",
    "\n",
    "\n",
    "def batch_upload_to_s3(bucket_name,  s3_client, data_dir, file_dir=\"raw-data-unvalidated\"):\n",
    "\n",
    "    for file_path in os.listdir(data_dir):\n",
    "        file_path = os.path.join(data_dir, file_path)\n",
    "        file_name = os.path.basename(file_path)\n",
    "\n",
    "        s3_key = f\"{file_dir}/{file_name}\" \n",
    "\n",
    "        # Upload the file\n",
    "        s3_client.upload_file(file_path, bucket_name, s3_key)\n",
    "        print(f'Uploaded {file_name} to {bucket_name}/{file_dir}.')\n",
    "\n",
    "data = \"/home/alijoe/Documents/Projects/e2e_ml_project/credit_card_fraud_detection/simulated-data-raw/data\"\n",
    "batch_upload_to_s3(\"ccf-detection-demo\", s3_client, data)"
   ]
  },
  {
   "cell_type": "markdown",
   "metadata": {},
   "source": [
    "#### Create GX Validations Schema"
   ]
  },
  {
   "cell_type": "code",
   "execution_count": null,
   "metadata": {},
   "outputs": [],
   "source": [
    "## Data Quality Check and Validation using Great Expectation"
   ]
  },
  {
   "cell_type": "code",
   "execution_count": 3,
   "metadata": {},
   "outputs": [],
   "source": [
    "import great_expectations as gx\n",
    "import great_expectations as gx\n",
    "from great_expectations.data_context.types.base import (\n",
    "    DataContextConfig,\n",
    "    DatasourceConfig,\n",
    "    FilesystemStoreBackendDefaults,\n",
    "    S3StoreBackendDefaults\n",
    ")\n",
    "\n",
    "from great_expectations.core.batch import RuntimeBatchRequest\n",
    "\n",
    "\n",
    "# Define your store backends amd their location (preferred in S3)\n",
    "\n",
    "# N.B: If you get an error, create your gx bucket before you run this\n",
    "\n",
    "expectations_s3_store_backend = {\n",
    "    \"class_name\": \"TupleS3StoreBackend\",\n",
    "    \"bucket\": \"great-expectation-stores-new\",\n",
    "    \"prefix\": \"expectations\",\n",
    "    \"boto3_options\": {\n",
    "        \"endpoint_url\": \"http://localhost:8000\",\n",
    "        \"aws_access_key_id\": \"nClicM9JjDdMFNYzhqGk\",\n",
    "        \"aws_secret_access_key\": \"0w5OD1J6kBtjdGl7CYMovUxPZozcWpS08Yx0EBm0\",\n",
    "    }\n",
    "}\n",
    "\n",
    "validations_s3_store_backend = {\n",
    "    \"class_name\": \"TupleS3StoreBackend\",\n",
    "    \"bucket\": \"great-expectation-stores-new\",\n",
    "    \"prefix\": \"uncommitted/validations/\",\n",
    "    \"boto3_options\": {\n",
    "        \"endpoint_url\": \"http://localhost:8000\",\n",
    "        \"aws_access_key_id\": \"nClicM9JjDdMFNYzhqGk\",\n",
    "        \"aws_secret_access_key\": \"0w5OD1J6kBtjdGl7CYMovUxPZozcWpS08Yx0EBm0\",\n",
    "    }\n",
    "}\n",
    "\n",
    "evaluation_parameter_s3_store_backend = {\n",
    "    \"class_name\": \"TupleS3StoreBackend\",\n",
    "    \"bucket\": \"great-expectation-stores-new\",\n",
    "    \"prefix\": \"evaluations/\",\n",
    "    \"boto3_options\": {\n",
    "        \"endpoint_url\": \"http://localhost:8000\",\n",
    "        \"aws_access_key_id\": \"nClicM9JjDdMFNYzhqGk\",\n",
    "        \"aws_secret_access_key\": \"0w5OD1J6kBtjdGl7CYMovUxPZozcWpS08Yx0EBm0\",\n",
    "    }\n",
    "}\n",
    "\n",
    "profiler_s3_store_backend = {\n",
    "  \"class_name\": \"TupleS3StoreBackend\",\n",
    "  \"bucket\": \"great-expectation-stores-new\",\n",
    "  \"suppress_store_backend_id\": True,\n",
    "  \"prefix\": \"profilers/\",\n",
    "  \"boto3_options\": {\n",
    "        \"endpoint_url\": \"http://localhost:8000\",\n",
    "        \"aws_access_key_id\": \"nClicM9JjDdMFNYzhqGk\",\n",
    "        \"aws_secret_access_key\": \"0w5OD1J6kBtjdGl7CYMovUxPZozcWpS08Yx0EBm0\",\n",
    "    }\n",
    "}\n",
    "\n",
    "checkpoint_s3_store_backend = {\n",
    "  \"class_name\": \"TupleS3StoreBackend\",\n",
    "  \"bucket\": \"great-expectation-stores-new\",\n",
    "  \"suppress_store_backend_id\": True,\n",
    "  \"prefix\": \"checkpoints/\",\n",
    "  \"boto3_options\": {\n",
    "        \"endpoint_url\": \"http://localhost:8000\",\n",
    "        \"aws_access_key_id\": \"nClicM9JjDdMFNYzhqGk\",\n",
    "        \"aws_secret_access_key\": \"0w5OD1J6kBtjdGl7CYMovUxPZozcWpS08Yx0EBm0\",\n",
    "    }\n",
    "}\n",
    "\n",
    "data_docs_sites_s3_store_backend = {\n",
    "    \"class_name\": \"TupleS3StoreBackend\",\n",
    "    \"bucket\": \"great-expectation-stores-new\",\n",
    "    \"prefix\": \"data-docs/\",\n",
    "    \"boto3_options\": {\n",
    "        \"endpoint_url\": \"http://localhost:8000\",\n",
    "        \"aws_access_key_id\": \"nClicM9JjDdMFNYzhqGk\",\n",
    "        \"aws_secret_access_key\": \"0w5OD1J6kBtjdGl7CYMovUxPZozcWpS08Yx0EBm0\",\n",
    "    }\n",
    "}\n"
   ]
  },
  {
   "cell_type": "code",
   "execution_count": 10,
   "metadata": {},
   "outputs": [],
   "source": [
    "# Step 2: Configure the Data Context\n",
    "\n",
    "## DataContextConfig is just same way you create `great_expectation.yaml`, but now everything is in code\n",
    "## so rather than doing `great_expectation init`, just use the DataContextConfig class\n",
    "## to define everything that you'd see in a `great_expectation.yaml` file.\n",
    "## down in the notebook, there is a `great_expectation.yaml` file example\n",
    "\n",
    "data_context_config = DataContextConfig(\n",
    "    datasources={\n",
    "        \"minio_datasource\": DatasourceConfig(\n",
    "            class_name=\"Datasource\",\n",
    "            execution_engine={\n",
    "                \"class_name\": \"PandasExecutionEngine\"\n",
    "            },\n",
    "            data_connectors={\n",
    "                \"default_runtime_data_connector_name\": {\n",
    "                    \"class_name\": \"RuntimeDataConnector\",\n",
    "                    \"module_name\": \"great_expectations.datasource.data_connector\",\n",
    "                    \"batch_identifiers\": [\"default_identifier_name\"],\n",
    "                },\n",
    "                \"default_inferred_data_connector_name\": {\n",
    "                    \"class_name\": \"InferredAssetS3DataConnector\",\n",
    "                    \"name\": \"minio_asset\",\n",
    "                    \"bucket\": \"ccf-detection-demo/\",\n",
    "                    \"prefix\": \"raw-data-unvalidated\",\n",
    "                    \"default_regex\": {\n",
    "                        \"group_names\": [\"data_asset_name\"],\n",
    "                        \"pattern\": r\"(.*)\\.pkl\",\n",
    "                    },\n",
    "                    \"boto3_options\": {\n",
    "                        \"aws_access_key_id\": \"nClicM9JjDdMFNYzhqGk\",\n",
    "                        \"aws_secret_access_key\": \"0w5OD1J6kBtjdGl7CYMovUxPZozcWpS08Yx0EBm0\",\n",
    "                        \"endpoint_url\": \"http://localhost:8000\",\n",
    "                    },\n",
    "                },\n",
    "            },\n",
    "        )\n",
    "    },\n",
    "    expectations_store_name = \"expectations_S3_store\",\n",
    "    validations_store_name = \"validations_store_name\",\n",
    "    evaluation_parameter_store_name = \"evaluation_parameter_store_name\",\n",
    "    checkpoint_store_name = \"checkpoint_store_name\",\n",
    "    profiler_store_name = \"profiler_store_name\",\n",
    "    plugins_directory = \"plugins/\", # remove this line should you get an error\n",
    "\n",
    "    ## Define the expectatinos stores to use ....\n",
    "    stores={\n",
    "        \"expectations_S3_store\": {\n",
    "            \"class_name\": \"ExpectationsStore\",\n",
    "            \"store_backend\": expectations_s3_store_backend\n",
    "        },\n",
    "        \"validations_store_name\": {\n",
    "            \"class_name\": \"ValidationsStore\",\n",
    "            \"store_backend\": validations_s3_store_backend\n",
    "        },\n",
    "        \"evaluation_parameter_store_name\": {\n",
    "            \"class_name\": \"EvaluationParameterStore\",\n",
    "            \"store_backend\": evaluation_parameter_s3_store_backend\n",
    "        },\n",
    "        \"checkpoint_store_name\": {\n",
    "            \"class_name\": \"CheckpointStore\",\n",
    "            \"store_backend\": checkpoint_s3_store_backend\n",
    "        },\n",
    "        \"profiler_store_name\": {\n",
    "            \"class_name\": \"ProfilerStore\",\n",
    "            \"store_backend\": profiler_s3_store_backend\n",
    "        }\n",
    "    },\n",
    "    data_docs_sites={\n",
    "        \"s3_site\": {\n",
    "            \"class_name\": \"SiteBuilder\",\n",
    "            \"show_how_to_buttons\": True,\n",
    "            \"site_index_builder\": {\n",
    "                \"class_name\": \"DefaultSiteIndexBuilder\"\n",
    "            },\n",
    "            \"store_backend\": data_docs_sites_s3_store_backend\n",
    "        }\n",
    "    }\n",
    ")\n",
    "\n",
    "# Initialize the context\n",
    "# context = BaseDataContext(project_config=data_context_config)\n",
    "context = gx.get_context(project_config=data_context_config)\n"
   ]
  },
  {
   "cell_type": "code",
   "execution_count": null,
   "metadata": {},
   "outputs": [],
   "source": [
    "# datasource = context.get_datasource(\"minio_datasource\") #.get_ba get_asset(\"minio_asset\")\n",
    "boto3_option = {\n",
    "        \"aws_access_key_id\": \"nClicM9JjDdMFNYzhqGk\",\n",
    "        \"aws_secret_access_key\": \"0w5OD1J6kBtjdGl7CYMovUxPZozcWpS08Yx0EBm0\",\n",
    "        \"endpoint_url\": \"http://localhost:8000\",\n",
    "}\n",
    "\n",
    "datasource = context.sources.add_pandas_s3(\n",
    "        name=\"new_datasource_\", bucket=\"ccf-detection-demo\", boto3_options=boto3_option\n",
    ")"
   ]
  },
  {
   "cell_type": "code",
   "execution_count": 31,
   "metadata": {},
   "outputs": [],
   "source": [
    "data_asset = datasource.add_pickle_asset(\n",
    "    name = \"ccf-asset-a\",\n",
    "    s3_prefix=  \"raw-data-unvalidated/\",\n",
    "    batching_regex = r\"\\d{4}-(\\d{2})-\\d{2}\\.pkl\"\n",
    ")\n"
   ]
  },
  {
   "cell_type": "code",
   "execution_count": 32,
   "metadata": {},
   "outputs": [
    {
     "data": {
      "text/plain": [
       "BatchRequest(datasource_name='new_datasource_', data_asset_name='ccf-asset-a', options={})"
      ]
     },
     "execution_count": 32,
     "metadata": {},
     "output_type": "execute_result"
    }
   ],
   "source": [
    "batch_request = data_asset.build_batch_request()\n",
    "batch_request"
   ]
  },
  {
   "cell_type": "code",
   "execution_count": null,
   "metadata": {},
   "outputs": [],
   "source": [
    "\n",
    "\n",
    "context.add_or_update_expectation_suite(expectation_suite_name=\"test_suite\")\n",
    "validator = context.get_validator(\n",
    "    batch_request=batch_request, expectation_suite_name=\"test_suite\"\n",
    ")"
   ]
  },
  {
   "cell_type": "code",
   "execution_count": null,
   "metadata": {},
   "outputs": [],
   "source": []
  },
  {
   "cell_type": "code",
   "execution_count": 11,
   "metadata": {},
   "outputs": [],
   "source": [
    "datassource = context.get_datasource(\"minio_datasource\")\n",
    "datassource._add_asset"
   ]
  },
  {
   "cell_type": "code",
   "execution_count": 7,
   "metadata": {},
   "outputs": [
    {
     "ename": "AttributeError",
     "evalue": "'FileDataContext' object has no attribute 'data_sources'",
     "output_type": "error",
     "traceback": [
      "\u001b[0;31m---------------------------------------------------------------------------\u001b[0m",
      "\u001b[0;31mAttributeError\u001b[0m                            Traceback (most recent call last)",
      "Cell \u001b[0;32mIn[7], line 3\u001b[0m\n\u001b[1;32m      1\u001b[0m context \u001b[38;5;241m=\u001b[39m gx\u001b[38;5;241m.\u001b[39mget_context(mode\u001b[38;5;241m=\u001b[39m\u001b[38;5;124m\"\u001b[39m\u001b[38;5;124mfile\u001b[39m\u001b[38;5;124m\"\u001b[39m)\n\u001b[0;32m----> 3\u001b[0m data_source \u001b[38;5;241m=\u001b[39m context\u001b[38;5;241m.\u001b[39mdata_sources\u001b[38;5;241m.\u001b[39madd_pandas_s3(\n\u001b[1;32m      4\u001b[0m     name\u001b[38;5;241m=\u001b[39m\u001b[38;5;124m\"\u001b[39m\u001b[38;5;124mminio_datasource_2\u001b[39m\u001b[38;5;124m\"\u001b[39m, bucket\u001b[38;5;241m=\u001b[39m\u001b[38;5;124m\"\u001b[39m\u001b[38;5;124mccf-detection-demo\u001b[39m\u001b[38;5;124m\"\u001b[39m, boto3_options\u001b[38;5;241m=\u001b[39m{\n\u001b[1;32m      5\u001b[0m                         \u001b[38;5;124m\"\u001b[39m\u001b[38;5;124maws_access_key_id\u001b[39m\u001b[38;5;124m\"\u001b[39m: \u001b[38;5;124m\"\u001b[39m\u001b[38;5;124mnClicM9JjDdMFNYzhqGk\u001b[39m\u001b[38;5;124m\"\u001b[39m,\n\u001b[1;32m      6\u001b[0m                         \u001b[38;5;124m\"\u001b[39m\u001b[38;5;124maws_secret_access_key\u001b[39m\u001b[38;5;124m\"\u001b[39m: \u001b[38;5;124m\"\u001b[39m\u001b[38;5;124m0w5OD1J6kBtjdGl7CYMovUxPZozcWpS08Yx0EBm0\u001b[39m\u001b[38;5;124m\"\u001b[39m,\n\u001b[1;32m      7\u001b[0m                         \u001b[38;5;124m\"\u001b[39m\u001b[38;5;124mendpoint_url\u001b[39m\u001b[38;5;124m\"\u001b[39m: \u001b[38;5;124m\"\u001b[39m\u001b[38;5;124mhttp://localhost:8000\u001b[39m\u001b[38;5;124m\"\u001b[39m,\n\u001b[1;32m      8\u001b[0m                     }\n\u001b[1;32m      9\u001b[0m )\n",
      "\u001b[0;31mAttributeError\u001b[0m: 'FileDataContext' object has no attribute 'data_sources'"
     ]
    }
   ],
   "source": [
    "context = gx.get_context(mode=\"file\")\n",
    "\n",
    "data_source = context.data_sources.add_pandas_s3(\n",
    "    name=\"minio_datasource_2\", bucket=\"ccf-detection-demo\", boto3_options={\n",
    "                        \"aws_access_key_id\": \"nClicM9JjDdMFNYzhqGk\",\n",
    "                        \"aws_secret_access_key\": \"0w5OD1J6kBtjdGl7CYMovUxPZozcWpS08Yx0EBm0\",\n",
    "                        \"endpoint_url\": \"http://localhost:8000\",\n",
    "                    }\n",
    ")"
   ]
  },
  {
   "cell_type": "code",
   "execution_count": 33,
   "metadata": {},
   "outputs": [
    {
     "ename": "TypeError",
     "evalue": "RuntimeBatchRequest.__init__() missing 1 required positional argument: 'runtime_parameters'",
     "output_type": "error",
     "traceback": [
      "\u001b[0;31m---------------------------------------------------------------------------\u001b[0m",
      "\u001b[0;31mTypeError\u001b[0m                                 Traceback (most recent call last)",
      "Cell \u001b[0;32mIn[33], line 2\u001b[0m\n\u001b[1;32m      1\u001b[0m \u001b[38;5;66;03m# Create a batch of data\u001b[39;00m\n\u001b[0;32m----> 2\u001b[0m batch_request \u001b[38;5;241m=\u001b[39m RuntimeBatchRequest(\n\u001b[1;32m      3\u001b[0m     datasource_name\u001b[38;5;241m=\u001b[39m\u001b[38;5;124m\"\u001b[39m\u001b[38;5;124mminio_datasource\u001b[39m\u001b[38;5;124m\"\u001b[39m,\n\u001b[1;32m      4\u001b[0m     data_connector_name\u001b[38;5;241m=\u001b[39m\u001b[38;5;124m\"\u001b[39m\u001b[38;5;124mdefault_runtime_data_connector_name\u001b[39m\u001b[38;5;124m\"\u001b[39m,\n\u001b[1;32m      5\u001b[0m     data_asset_name\u001b[38;5;241m=\u001b[39m\u001b[38;5;124m\"\u001b[39m\u001b[38;5;124mccf_detection\u001b[39m\u001b[38;5;124m\"\u001b[39m,  \u001b[38;5;66;03m# This can be anything that identifies this data_asset for you\u001b[39;00m\n\u001b[1;32m      6\u001b[0m     \u001b[38;5;66;03m#runtime_parameters={\"path\": \"s3a://ccf-detection-demo/raw-data-unvalidated/2018-04-01.pkl\"}, ## Look how to make this more better, red teh docs\u001b[39;00m\n\u001b[1;32m      7\u001b[0m     batch_identifiers\u001b[38;5;241m=\u001b[39m{\u001b[38;5;124m\"\u001b[39m\u001b[38;5;124mdefault_identifier_name\u001b[39m\u001b[38;5;124m\"\u001b[39m: \u001b[38;5;124m\"\u001b[39m\u001b[38;5;124mdefault_identifier\u001b[39m\u001b[38;5;124m\"\u001b[39m},\n\u001b[1;32m      8\u001b[0m )\n",
      "\u001b[0;31mTypeError\u001b[0m: RuntimeBatchRequest.__init__() missing 1 required positional argument: 'runtime_parameters'"
     ]
    }
   ],
   "source": [
    "# Create a batch of data\n",
    "batch_request = RuntimeBatchRequest(\n",
    "    datasource_name=\"minio_datasource\",\n",
    "    data_connector_name=\"default_runtime_data_connector_name\",\n",
    "    data_asset_name=\"ccf_detection\",  # This can be anything that identifies this data_asset for you\n",
    "    runtime_parameters={\"path\": \"s3a://ccf-detection-demo/raw-data-unvalidated/2018-04-01.pkl\"}, ## Look how to make this more better, red teh docs\n",
    "    batch_identifiers={\"default_identifier_name\": \"default_identifier\"},\n",
    ")\n"
   ]
  },
  {
   "cell_type": "code",
   "execution_count": null,
   "metadata": {},
   "outputs": [],
   "source": [
    "context.sources."
   ]
  },
  {
   "cell_type": "code",
   "execution_count": 34,
   "metadata": {},
   "outputs": [
    {
     "name": "stderr",
     "output_type": "stream",
     "text": [
      "Picked up _JAVA_OPTIONS: -Dawt.useSystemAAFontSettings=on -Dswing.aatext=true\n",
      "Picked up _JAVA_OPTIONS: -Dawt.useSystemAAFontSettings=on -Dswing.aatext=true\n",
      "25/01/20 06:57:34 WARN Utils: Your hostname, katana resolves to a loopback address: 127.0.1.1; using 192.168.0.116 instead (on interface wlan0)\n",
      "25/01/20 06:57:34 WARN Utils: Set SPARK_LOCAL_IP if you need to bind to another address\n",
      "Setting default log level to \"WARN\".\n",
      "To adjust logging level use sc.setLogLevel(newLevel). For SparkR, use setLogLevel(newLevel).\n",
      "25/01/20 06:57:34 WARN NativeCodeLoader: Unable to load native-hadoop library for your platform... using builtin-java classes where applicable\n"
     ]
    }
   ],
   "source": [
    "datasource = context.sources.add_or_update_spark_s3(\n",
    "    name=\"minio_ccf_datasource\",\n",
    "    bucket=\"ccf-detection-demo\",\n",
    "    boto3_options={\n",
    "        \"aws_access_key_id\": \"nClicM9JjDdMFNYzhqGk\",\n",
    "        \"aws_secret_access_key\": \"0w5OD1J6kBtjdGl7CYMovUxPZozcWpS08Yx0EBm0\",\n",
    "        \"endpoint_url\": \"http://localhost:8000\",\n",
    "    })"
   ]
  },
  {
   "cell_type": "code",
   "execution_count": null,
   "metadata": {},
   "outputs": [],
   "source": [
    "asset = datasource.add"
   ]
  },
  {
   "cell_type": "code",
   "execution_count": null,
   "metadata": {},
   "outputs": [],
   "source": [
    "asset = datasource.add_csv_asset(\n",
    "    name=\"csv_taxi_s3_asset\",\n",
    "    batching_regex=r\".*_(?P<year>\\d{4})\\.csv\",\n",
    "    header=True,\n",
    "    infer_schema=True,\n",
    ")"
   ]
  },
  {
   "cell_type": "code",
   "execution_count": 19,
   "metadata": {},
   "outputs": [
    {
     "data": {
      "text/plain": [
       "{\n",
       "  \"expectation_suite_name\": \"ccf_detection_suite\",\n",
       "  \"ge_cloud_id\": null,\n",
       "  \"expectations\": [],\n",
       "  \"data_asset_type\": null,\n",
       "  \"meta\": {\n",
       "    \"great_expectations_version\": \"0.18.19\"\n",
       "  }\n",
       "}"
      ]
     },
     "execution_count": 19,
     "metadata": {},
     "output_type": "execute_result"
    }
   ],
   "source": [
    "context.add_or_update_expectation_suite(\n",
    "    expectation_suite_name=\"ccf_detection_suite\") #, overwrite_existing=True\n",
    "#)"
   ]
  },
  {
   "cell_type": "code",
   "execution_count": 29,
   "metadata": {},
   "outputs": [
    {
     "name": "stdout",
     "output_type": "stream",
     "text": [
      "<great_expectations.validator.validator.Validator object at 0x7f2de1c3fa50>\n"
     ]
    }
   ],
   "source": [
    "validator = context.get_validator(\n",
    "    batch_request=batch_request, expectation_suite_name=\"ccf_detection_suite\"\n",
    ")\n",
    "\n",
    "print (validator)"
   ]
  },
  {
   "cell_type": "code",
   "execution_count": 21,
   "metadata": {},
   "outputs": [
    {
     "data": {
      "application/vnd.jupyter.widget-view+json": {
       "model_id": "ee6ca701828c4bfba0a128157126e0ef",
       "version_major": 2,
       "version_minor": 0
      },
      "text/plain": [
       "Calculating Metrics:   0%|          | 0/1 [00:00<?, ?it/s]"
      ]
     },
     "metadata": {},
     "output_type": "display_data"
    },
    {
     "data": {
      "text/html": [
       "<div>\n",
       "<style scoped>\n",
       "    .dataframe tbody tr th:only-of-type {\n",
       "        vertical-align: middle;\n",
       "    }\n",
       "\n",
       "    .dataframe tbody tr th {\n",
       "        vertical-align: top;\n",
       "    }\n",
       "\n",
       "    .dataframe thead th {\n",
       "        text-align: right;\n",
       "    }\n",
       "</style>\n",
       "<table border=\"1\" class=\"dataframe\">\n",
       "  <thead>\n",
       "    <tr style=\"text-align: right;\">\n",
       "      <th></th>\n",
       "      <th>TRANSACTION_ID</th>\n",
       "      <th>TX_DATETIME</th>\n",
       "      <th>CUSTOMER_ID</th>\n",
       "      <th>TERMINAL_ID</th>\n",
       "      <th>TX_AMOUNT</th>\n",
       "      <th>TX_TIME_SECONDS</th>\n",
       "      <th>TX_TIME_DAYS</th>\n",
       "      <th>TX_FRAUD</th>\n",
       "      <th>TX_FRAUD_SCENARIO</th>\n",
       "    </tr>\n",
       "  </thead>\n",
       "  <tbody>\n",
       "    <tr>\n",
       "      <th>0</th>\n",
       "      <td>0</td>\n",
       "      <td>2018-04-01 00:00:31</td>\n",
       "      <td>596</td>\n",
       "      <td>3156</td>\n",
       "      <td>57.16</td>\n",
       "      <td>31</td>\n",
       "      <td>0</td>\n",
       "      <td>0</td>\n",
       "      <td>0</td>\n",
       "    </tr>\n",
       "    <tr>\n",
       "      <th>1</th>\n",
       "      <td>1</td>\n",
       "      <td>2018-04-01 00:02:10</td>\n",
       "      <td>4961</td>\n",
       "      <td>3412</td>\n",
       "      <td>81.51</td>\n",
       "      <td>130</td>\n",
       "      <td>0</td>\n",
       "      <td>0</td>\n",
       "      <td>0</td>\n",
       "    </tr>\n",
       "    <tr>\n",
       "      <th>2</th>\n",
       "      <td>2</td>\n",
       "      <td>2018-04-01 00:07:56</td>\n",
       "      <td>2</td>\n",
       "      <td>1365</td>\n",
       "      <td>146.00</td>\n",
       "      <td>476</td>\n",
       "      <td>0</td>\n",
       "      <td>0</td>\n",
       "      <td>0</td>\n",
       "    </tr>\n",
       "    <tr>\n",
       "      <th>3</th>\n",
       "      <td>3</td>\n",
       "      <td>2018-04-01 00:09:29</td>\n",
       "      <td>4128</td>\n",
       "      <td>8737</td>\n",
       "      <td>64.49</td>\n",
       "      <td>569</td>\n",
       "      <td>0</td>\n",
       "      <td>0</td>\n",
       "      <td>0</td>\n",
       "    </tr>\n",
       "    <tr>\n",
       "      <th>4</th>\n",
       "      <td>4</td>\n",
       "      <td>2018-04-01 00:10:34</td>\n",
       "      <td>927</td>\n",
       "      <td>9906</td>\n",
       "      <td>50.99</td>\n",
       "      <td>634</td>\n",
       "      <td>0</td>\n",
       "      <td>0</td>\n",
       "      <td>0</td>\n",
       "    </tr>\n",
       "  </tbody>\n",
       "</table>\n",
       "</div>"
      ],
      "text/plain": [
       "   TRANSACTION_ID         TX_DATETIME CUSTOMER_ID TERMINAL_ID  TX_AMOUNT  \\\n",
       "0               0 2018-04-01 00:00:31         596        3156      57.16   \n",
       "1               1 2018-04-01 00:02:10        4961        3412      81.51   \n",
       "2               2 2018-04-01 00:07:56           2        1365     146.00   \n",
       "3               3 2018-04-01 00:09:29        4128        8737      64.49   \n",
       "4               4 2018-04-01 00:10:34         927        9906      50.99   \n",
       "\n",
       "  TX_TIME_SECONDS TX_TIME_DAYS  TX_FRAUD  TX_FRAUD_SCENARIO  \n",
       "0              31            0         0                  0  \n",
       "1             130            0         0                  0  \n",
       "2             476            0         0                  0  \n",
       "3             569            0         0                  0  \n",
       "4             634            0         0                  0  "
      ]
     },
     "execution_count": 21,
     "metadata": {},
     "output_type": "execute_result"
    }
   ],
   "source": [
    "validator.head()"
   ]
  },
  {
   "cell_type": "code",
   "execution_count": 22,
   "metadata": {},
   "outputs": [
    {
     "data": {
      "application/vnd.jupyter.widget-view+json": {
       "model_id": "5b3b61e9346749c6a957771a1b39c385",
       "version_major": 2,
       "version_minor": 0
      },
      "text/plain": [
       "Calculating Metrics:   0%|          | 0/2 [00:00<?, ?it/s]"
      ]
     },
     "metadata": {},
     "output_type": "display_data"
    },
    {
     "data": {
      "application/vnd.jupyter.widget-view+json": {
       "model_id": "dd5ec895f6324ca8852919fab863ab1c",
       "version_major": 2,
       "version_minor": 0
      },
      "text/plain": [
       "Calculating Metrics:   0%|          | 0/4 [00:00<?, ?it/s]"
      ]
     },
     "metadata": {},
     "output_type": "display_data"
    },
    {
     "data": {
      "application/vnd.jupyter.widget-view+json": {
       "model_id": "c8471b3d8c3044619c5c9cf32e9b9102",
       "version_major": 2,
       "version_minor": 0
      },
      "text/plain": [
       "Calculating Metrics:   0%|          | 0/7 [00:00<?, ?it/s]"
      ]
     },
     "metadata": {},
     "output_type": "display_data"
    },
    {
     "data": {
      "application/vnd.jupyter.widget-view+json": {
       "model_id": "dcf448486fbd46deaaba524bd05ad336",
       "version_major": 2,
       "version_minor": 0
      },
      "text/plain": [
       "Calculating Metrics:   0%|          | 0/1 [00:00<?, ?it/s]"
      ]
     },
     "metadata": {},
     "output_type": "display_data"
    },
    {
     "data": {
      "application/vnd.jupyter.widget-view+json": {
       "model_id": "f79dd9193b4e47959bdad6edce2bc738",
       "version_major": 2,
       "version_minor": 0
      },
      "text/plain": [
       "Calculating Metrics:   0%|          | 0/1 [00:00<?, ?it/s]"
      ]
     },
     "metadata": {},
     "output_type": "display_data"
    },
    {
     "data": {
      "application/vnd.jupyter.widget-view+json": {
       "model_id": "c0c11ef81ae64cc8886f267f51fe86ae",
       "version_major": 2,
       "version_minor": 0
      },
      "text/plain": [
       "Calculating Metrics:   0%|          | 0/1 [00:00<?, ?it/s]"
      ]
     },
     "metadata": {},
     "output_type": "display_data"
    },
    {
     "data": {
      "application/vnd.jupyter.widget-view+json": {
       "model_id": "5e217a07a4ef4fec970aa79466db15d3",
       "version_major": 2,
       "version_minor": 0
      },
      "text/plain": [
       "Calculating Metrics:   0%|          | 0/4 [00:00<?, ?it/s]"
      ]
     },
     "metadata": {},
     "output_type": "display_data"
    },
    {
     "data": {
      "application/vnd.jupyter.widget-view+json": {
       "model_id": "90ed4ab980544027bd255142fd6b0226",
       "version_major": 2,
       "version_minor": 0
      },
      "text/plain": [
       "Calculating Metrics:   0%|          | 0/7 [00:00<?, ?it/s]"
      ]
     },
     "metadata": {},
     "output_type": "display_data"
    },
    {
     "data": {
      "application/vnd.jupyter.widget-view+json": {
       "model_id": "c0ccd39fed004ebaa89d607ceeed827a",
       "version_major": 2,
       "version_minor": 0
      },
      "text/plain": [
       "Calculating Metrics:   0%|          | 0/1 [00:00<?, ?it/s]"
      ]
     },
     "metadata": {},
     "output_type": "display_data"
    },
    {
     "data": {
      "application/vnd.jupyter.widget-view+json": {
       "model_id": "b24a70680a1d4a4bac6fb95f7d4c31b9",
       "version_major": 2,
       "version_minor": 0
      },
      "text/plain": [
       "Calculating Metrics:   0%|          | 0/1 [00:00<?, ?it/s]"
      ]
     },
     "metadata": {},
     "output_type": "display_data"
    },
    {
     "data": {
      "application/vnd.jupyter.widget-view+json": {
       "model_id": "3128d569f30e438e898f5f81a4e9bb65",
       "version_major": 2,
       "version_minor": 0
      },
      "text/plain": [
       "Calculating Metrics:   0%|          | 0/1 [00:00<?, ?it/s]"
      ]
     },
     "metadata": {},
     "output_type": "display_data"
    },
    {
     "data": {
      "application/vnd.jupyter.widget-view+json": {
       "model_id": "fe7c642f18074d28af216b7133551b71",
       "version_major": 2,
       "version_minor": 0
      },
      "text/plain": [
       "Calculating Metrics:   0%|          | 0/1 [00:00<?, ?it/s]"
      ]
     },
     "metadata": {},
     "output_type": "display_data"
    },
    {
     "data": {
      "application/vnd.jupyter.widget-view+json": {
       "model_id": "e51127681a084449ac2398ee9c20c24b",
       "version_major": 2,
       "version_minor": 0
      },
      "text/plain": [
       "Calculating Metrics:   0%|          | 0/1 [00:00<?, ?it/s]"
      ]
     },
     "metadata": {},
     "output_type": "display_data"
    },
    {
     "data": {
      "application/vnd.jupyter.widget-view+json": {
       "model_id": "4c0ec49acf9b44d5b8a15f3b00bcef6b",
       "version_major": 2,
       "version_minor": 0
      },
      "text/plain": [
       "Calculating Metrics:   0%|          | 0/1 [00:00<?, ?it/s]"
      ]
     },
     "metadata": {},
     "output_type": "display_data"
    },
    {
     "data": {
      "application/vnd.jupyter.widget-view+json": {
       "model_id": "32be0365174c494dacc48df2611bbfb9",
       "version_major": 2,
       "version_minor": 0
      },
      "text/plain": [
       "Calculating Metrics:   0%|          | 0/4 [00:00<?, ?it/s]"
      ]
     },
     "metadata": {},
     "output_type": "display_data"
    },
    {
     "data": {
      "application/vnd.jupyter.widget-view+json": {
       "model_id": "2c7ea24c4a7c4467aa293d50550d9ff1",
       "version_major": 2,
       "version_minor": 0
      },
      "text/plain": [
       "Calculating Metrics:   0%|          | 0/7 [00:00<?, ?it/s]"
      ]
     },
     "metadata": {},
     "output_type": "display_data"
    },
    {
     "data": {
      "application/vnd.jupyter.widget-view+json": {
       "model_id": "bb21f34a492040c0a635255066ad4ac9",
       "version_major": 2,
       "version_minor": 0
      },
      "text/plain": [
       "Calculating Metrics:   0%|          | 0/8 [00:00<?, ?it/s]"
      ]
     },
     "metadata": {},
     "output_type": "display_data"
    },
    {
     "data": {
      "application/vnd.jupyter.widget-view+json": {
       "model_id": "f78170c9a7ad4f50bdab8616ace54ab7",
       "version_major": 2,
       "version_minor": 0
      },
      "text/plain": [
       "Calculating Metrics:   0%|          | 0/8 [00:00<?, ?it/s]"
      ]
     },
     "metadata": {},
     "output_type": "display_data"
    },
    {
     "data": {
      "application/vnd.jupyter.widget-view+json": {
       "model_id": "1236c20c8afe43a8988ad5e768d1fe29",
       "version_major": 2,
       "version_minor": 0
      },
      "text/plain": [
       "Calculating Metrics:   0%|          | 0/8 [00:00<?, ?it/s]"
      ]
     },
     "metadata": {},
     "output_type": "display_data"
    },
    {
     "data": {
      "application/vnd.jupyter.widget-view+json": {
       "model_id": "837ee00531f44aefa6c030e783ffe997",
       "version_major": 2,
       "version_minor": 0
      },
      "text/plain": [
       "Calculating Metrics:   0%|          | 0/4 [00:00<?, ?it/s]"
      ]
     },
     "metadata": {},
     "output_type": "display_data"
    },
    {
     "data": {
      "application/vnd.jupyter.widget-view+json": {
       "model_id": "0a9e3822d37949e8aa254fa1a128b263",
       "version_major": 2,
       "version_minor": 0
      },
      "text/plain": [
       "Calculating Metrics:   0%|          | 0/7 [00:00<?, ?it/s]"
      ]
     },
     "metadata": {},
     "output_type": "display_data"
    },
    {
     "data": {
      "application/vnd.jupyter.widget-view+json": {
       "model_id": "d9a6a4b346e44768815b86542e9529cc",
       "version_major": 2,
       "version_minor": 0
      },
      "text/plain": [
       "Calculating Metrics:   0%|          | 0/8 [00:00<?, ?it/s]"
      ]
     },
     "metadata": {},
     "output_type": "display_data"
    },
    {
     "data": {
      "application/vnd.jupyter.widget-view+json": {
       "model_id": "a97f1b5c68f046b5a020585626a83efb",
       "version_major": 2,
       "version_minor": 0
      },
      "text/plain": [
       "Calculating Metrics:   0%|          | 0/8 [00:00<?, ?it/s]"
      ]
     },
     "metadata": {},
     "output_type": "display_data"
    },
    {
     "data": {
      "application/vnd.jupyter.widget-view+json": {
       "model_id": "4dd9cbe6dfd340b1a130c30f7928354b",
       "version_major": 2,
       "version_minor": 0
      },
      "text/plain": [
       "Calculating Metrics:   0%|          | 0/8 [00:00<?, ?it/s]"
      ]
     },
     "metadata": {},
     "output_type": "display_data"
    },
    {
     "data": {
      "application/vnd.jupyter.widget-view+json": {
       "model_id": "3ccbf307eaf144dbac4277f1311f4ed8",
       "version_major": 2,
       "version_minor": 0
      },
      "text/plain": [
       "Calculating Metrics:   0%|          | 0/4 [00:00<?, ?it/s]"
      ]
     },
     "metadata": {},
     "output_type": "display_data"
    },
    {
     "data": {
      "application/vnd.jupyter.widget-view+json": {
       "model_id": "8f99e89e757a4bccabbef5cfbaa2d028",
       "version_major": 2,
       "version_minor": 0
      },
      "text/plain": [
       "Calculating Metrics:   0%|          | 0/7 [00:00<?, ?it/s]"
      ]
     },
     "metadata": {},
     "output_type": "display_data"
    },
    {
     "data": {
      "application/vnd.jupyter.widget-view+json": {
       "model_id": "cf4eb8190e414589a6d39e86a2918263",
       "version_major": 2,
       "version_minor": 0
      },
      "text/plain": [
       "Calculating Metrics:   0%|          | 0/1 [00:00<?, ?it/s]"
      ]
     },
     "metadata": {},
     "output_type": "display_data"
    },
    {
     "data": {
      "application/vnd.jupyter.widget-view+json": {
       "model_id": "abf9d78db49e43b3b8c5b15d58b6da94",
       "version_major": 2,
       "version_minor": 0
      },
      "text/plain": [
       "Calculating Metrics:   0%|          | 0/1 [00:00<?, ?it/s]"
      ]
     },
     "metadata": {},
     "output_type": "display_data"
    },
    {
     "data": {
      "application/vnd.jupyter.widget-view+json": {
       "model_id": "93cb8e75701e444785463409e8bc984b",
       "version_major": 2,
       "version_minor": 0
      },
      "text/plain": [
       "Calculating Metrics:   0%|          | 0/1 [00:00<?, ?it/s]"
      ]
     },
     "metadata": {},
     "output_type": "display_data"
    },
    {
     "data": {
      "application/vnd.jupyter.widget-view+json": {
       "model_id": "9abb71f8f4164a04904f0442afc8fd19",
       "version_major": 2,
       "version_minor": 0
      },
      "text/plain": [
       "Calculating Metrics:   0%|          | 0/4 [00:00<?, ?it/s]"
      ]
     },
     "metadata": {},
     "output_type": "display_data"
    },
    {
     "data": {
      "application/vnd.jupyter.widget-view+json": {
       "model_id": "ee6f2487194a4c2699154213aaa46186",
       "version_major": 2,
       "version_minor": 0
      },
      "text/plain": [
       "Calculating Metrics:   0%|          | 0/7 [00:00<?, ?it/s]"
      ]
     },
     "metadata": {},
     "output_type": "display_data"
    },
    {
     "data": {
      "application/vnd.jupyter.widget-view+json": {
       "model_id": "be2f23716b834ed78f7c363a3f345c5b",
       "version_major": 2,
       "version_minor": 0
      },
      "text/plain": [
       "Calculating Metrics:   0%|          | 0/8 [00:00<?, ?it/s]"
      ]
     },
     "metadata": {},
     "output_type": "display_data"
    },
    {
     "data": {
      "application/vnd.jupyter.widget-view+json": {
       "model_id": "3b02400e67c547f9b5e2308761965e8b",
       "version_major": 2,
       "version_minor": 0
      },
      "text/plain": [
       "Calculating Metrics:   0%|          | 0/8 [00:00<?, ?it/s]"
      ]
     },
     "metadata": {},
     "output_type": "display_data"
    },
    {
     "data": {
      "application/vnd.jupyter.widget-view+json": {
       "model_id": "0a357c4ea2304ba3aa1cd0b00d2be56a",
       "version_major": 2,
       "version_minor": 0
      },
      "text/plain": [
       "Calculating Metrics:   0%|          | 0/8 [00:00<?, ?it/s]"
      ]
     },
     "metadata": {},
     "output_type": "display_data"
    },
    {
     "data": {
      "application/vnd.jupyter.widget-view+json": {
       "model_id": "b16bfffe1d054a0f9d80f62e0fa188d2",
       "version_major": 2,
       "version_minor": 0
      },
      "text/plain": [
       "Calculating Metrics:   0%|          | 0/4 [00:00<?, ?it/s]"
      ]
     },
     "metadata": {},
     "output_type": "display_data"
    },
    {
     "data": {
      "application/vnd.jupyter.widget-view+json": {
       "model_id": "c2fad529b4e2420f90df3bd9061d39b3",
       "version_major": 2,
       "version_minor": 0
      },
      "text/plain": [
       "Calculating Metrics:   0%|          | 0/7 [00:00<?, ?it/s]"
      ]
     },
     "metadata": {},
     "output_type": "display_data"
    },
    {
     "data": {
      "application/vnd.jupyter.widget-view+json": {
       "model_id": "d8d879c3be4548889d269d3604a881ac",
       "version_major": 2,
       "version_minor": 0
      },
      "text/plain": [
       "Calculating Metrics:   0%|          | 0/8 [00:00<?, ?it/s]"
      ]
     },
     "metadata": {},
     "output_type": "display_data"
    },
    {
     "data": {
      "application/vnd.jupyter.widget-view+json": {
       "model_id": "1ac3464e1630427d9bdaad665f07f352",
       "version_major": 2,
       "version_minor": 0
      },
      "text/plain": [
       "Calculating Metrics:   0%|          | 0/8 [00:00<?, ?it/s]"
      ]
     },
     "metadata": {},
     "output_type": "display_data"
    },
    {
     "data": {
      "application/vnd.jupyter.widget-view+json": {
       "model_id": "498824775a3141a99631403cce7c5206",
       "version_major": 2,
       "version_minor": 0
      },
      "text/plain": [
       "Calculating Metrics:   0%|          | 0/8 [00:00<?, ?it/s]"
      ]
     },
     "metadata": {},
     "output_type": "display_data"
    },
    {
     "data": {
      "application/vnd.jupyter.widget-view+json": {
       "model_id": "8aea07a2de9f451f8300d1fc24f75345",
       "version_major": 2,
       "version_minor": 0
      },
      "text/plain": [
       "Calculating Metrics:   0%|          | 0/4 [00:00<?, ?it/s]"
      ]
     },
     "metadata": {},
     "output_type": "display_data"
    },
    {
     "data": {
      "application/vnd.jupyter.widget-view+json": {
       "model_id": "9a0be59065cb47708b9ebc8b14752695",
       "version_major": 2,
       "version_minor": 0
      },
      "text/plain": [
       "Calculating Metrics:   0%|          | 0/7 [00:00<?, ?it/s]"
      ]
     },
     "metadata": {},
     "output_type": "display_data"
    },
    {
     "data": {
      "application/vnd.jupyter.widget-view+json": {
       "model_id": "44fd5adfa57942eeb505a4f936b8364a",
       "version_major": 2,
       "version_minor": 0
      },
      "text/plain": [
       "Calculating Metrics:   0%|          | 0/1 [00:00<?, ?it/s]"
      ]
     },
     "metadata": {},
     "output_type": "display_data"
    },
    {
     "data": {
      "application/vnd.jupyter.widget-view+json": {
       "model_id": "4e54a3bb8516497e98ceacb178d406be",
       "version_major": 2,
       "version_minor": 0
      },
      "text/plain": [
       "Calculating Metrics:   0%|          | 0/1 [00:00<?, ?it/s]"
      ]
     },
     "metadata": {},
     "output_type": "display_data"
    },
    {
     "data": {
      "application/vnd.jupyter.widget-view+json": {
       "model_id": "9dddab08264842e1a444a8381d94ae98",
       "version_major": 2,
       "version_minor": 0
      },
      "text/plain": [
       "Calculating Metrics:   0%|          | 0/1 [00:00<?, ?it/s]"
      ]
     },
     "metadata": {},
     "output_type": "display_data"
    },
    {
     "data": {
      "application/vnd.jupyter.widget-view+json": {
       "model_id": "0e5699999eda41a0af9b7fbd5a1554e7",
       "version_major": 2,
       "version_minor": 0
      },
      "text/plain": [
       "Calculating Metrics:   0%|          | 0/4 [00:00<?, ?it/s]"
      ]
     },
     "metadata": {},
     "output_type": "display_data"
    },
    {
     "data": {
      "application/vnd.jupyter.widget-view+json": {
       "model_id": "306fc7bd01164ac28ccec1a0032655d1",
       "version_major": 2,
       "version_minor": 0
      },
      "text/plain": [
       "Calculating Metrics:   0%|          | 0/7 [00:00<?, ?it/s]"
      ]
     },
     "metadata": {},
     "output_type": "display_data"
    },
    {
     "data": {
      "application/vnd.jupyter.widget-view+json": {
       "model_id": "51d70cf82ae04eb8bfeb2c0945d99b40",
       "version_major": 2,
       "version_minor": 0
      },
      "text/plain": [
       "Calculating Metrics:   0%|          | 0/1 [00:00<?, ?it/s]"
      ]
     },
     "metadata": {},
     "output_type": "display_data"
    },
    {
     "data": {
      "application/vnd.jupyter.widget-view+json": {
       "model_id": "46d4df278aa04de9bb00d37385f05e9e",
       "version_major": 2,
       "version_minor": 0
      },
      "text/plain": [
       "Calculating Metrics:   0%|          | 0/1 [00:00<?, ?it/s]"
      ]
     },
     "metadata": {},
     "output_type": "display_data"
    },
    {
     "data": {
      "application/vnd.jupyter.widget-view+json": {
       "model_id": "62b6762aa4e24b6db5c465ceef91933d",
       "version_major": 2,
       "version_minor": 0
      },
      "text/plain": [
       "Calculating Metrics:   0%|          | 0/1 [00:00<?, ?it/s]"
      ]
     },
     "metadata": {},
     "output_type": "display_data"
    },
    {
     "data": {
      "application/vnd.jupyter.widget-view+json": {
       "model_id": "5d06e865ac314859a133d4699e29d888",
       "version_major": 2,
       "version_minor": 0
      },
      "text/plain": [
       "Calculating Metrics:   0%|          | 0/2 [00:00<?, ?it/s]"
      ]
     },
     "metadata": {},
     "output_type": "display_data"
    },
    {
     "data": {
      "application/vnd.jupyter.widget-view+json": {
       "model_id": "0a4e495fbd694f9eac71866cc1533e3b",
       "version_major": 2,
       "version_minor": 0
      },
      "text/plain": [
       "Calculating Metrics:   0%|          | 0/1 [00:00<?, ?it/s]"
      ]
     },
     "metadata": {},
     "output_type": "display_data"
    },
    {
     "data": {
      "application/vnd.jupyter.widget-view+json": {
       "model_id": "d46b778c24294a178cb1dc966a2ab6b9",
       "version_major": 2,
       "version_minor": 0
      },
      "text/plain": [
       "Calculating Metrics:   0%|          | 0/1 [00:00<?, ?it/s]"
      ]
     },
     "metadata": {},
     "output_type": "display_data"
    },
    {
     "data": {
      "application/vnd.jupyter.widget-view+json": {
       "model_id": "750a8904baf54aca84fb7fa3b4e59452",
       "version_major": 2,
       "version_minor": 0
      },
      "text/plain": [
       "Profiling:   0%|          | 0/9 [00:00<?, ?it/s, Column=TRANSACTION_ID]"
      ]
     },
     "metadata": {},
     "output_type": "display_data"
    },
    {
     "data": {
      "application/vnd.jupyter.widget-view+json": {
       "model_id": "88b50a8fe227483db6ea345c44113551",
       "version_major": 2,
       "version_minor": 0
      },
      "text/plain": [
       "Calculating Metrics:   0%|          | 0/4 [00:00<?, ?it/s]"
      ]
     },
     "metadata": {},
     "output_type": "display_data"
    },
    {
     "data": {
      "application/vnd.jupyter.widget-view+json": {
       "model_id": "fee4c45db6034b87a7342318f4f92dd9",
       "version_major": 2,
       "version_minor": 0
      },
      "text/plain": [
       "Calculating Metrics:   0%|          | 0/4 [00:00<?, ?it/s]"
      ]
     },
     "metadata": {},
     "output_type": "display_data"
    },
    {
     "data": {
      "application/vnd.jupyter.widget-view+json": {
       "model_id": "292727704d254a4391a1497f2353b542",
       "version_major": 2,
       "version_minor": 0
      },
      "text/plain": [
       "Calculating Metrics:   0%|          | 0/4 [00:00<?, ?it/s]"
      ]
     },
     "metadata": {},
     "output_type": "display_data"
    },
    {
     "data": {
      "application/vnd.jupyter.widget-view+json": {
       "model_id": "80470559d5f64a14a948e3ed181eecf0",
       "version_major": 2,
       "version_minor": 0
      },
      "text/plain": [
       "Calculating Metrics:   0%|          | 0/4 [00:00<?, ?it/s]"
      ]
     },
     "metadata": {},
     "output_type": "display_data"
    },
    {
     "data": {
      "application/vnd.jupyter.widget-view+json": {
       "model_id": "edb8cfeeea9b4e1484831f7989d4a254",
       "version_major": 2,
       "version_minor": 0
      },
      "text/plain": [
       "Calculating Metrics:   0%|          | 0/4 [00:00<?, ?it/s]"
      ]
     },
     "metadata": {},
     "output_type": "display_data"
    },
    {
     "data": {
      "application/vnd.jupyter.widget-view+json": {
       "model_id": "ad21d73f40154706b7b6227f604443dd",
       "version_major": 2,
       "version_minor": 0
      },
      "text/plain": [
       "Calculating Metrics:   0%|          | 0/4 [00:00<?, ?it/s]"
      ]
     },
     "metadata": {},
     "output_type": "display_data"
    },
    {
     "data": {
      "application/vnd.jupyter.widget-view+json": {
       "model_id": "30cd760e8cf34c5cb75eb4b4693337e3",
       "version_major": 2,
       "version_minor": 0
      },
      "text/plain": [
       "Calculating Metrics:   0%|          | 0/4 [00:00<?, ?it/s]"
      ]
     },
     "metadata": {},
     "output_type": "display_data"
    },
    {
     "data": {
      "application/vnd.jupyter.widget-view+json": {
       "model_id": "590aa758937a41b0a316d78de1778b1a",
       "version_major": 2,
       "version_minor": 0
      },
      "text/plain": [
       "Calculating Metrics:   0%|          | 0/4 [00:00<?, ?it/s]"
      ]
     },
     "metadata": {},
     "output_type": "display_data"
    },
    {
     "data": {
      "application/vnd.jupyter.widget-view+json": {
       "model_id": "d0dd3e3c08dd48fd8c69ca37bdd47c08",
       "version_major": 2,
       "version_minor": 0
      },
      "text/plain": [
       "Calculating Metrics:   0%|          | 0/4 [00:00<?, ?it/s]"
      ]
     },
     "metadata": {},
     "output_type": "display_data"
    },
    {
     "data": {
      "application/vnd.jupyter.widget-view+json": {
       "model_id": "899eebdd96494736b4579853f2582e72",
       "version_major": 2,
       "version_minor": 0
      },
      "text/plain": [
       "Calculating Metrics:   0%|          | 0/4 [00:00<?, ?it/s]"
      ]
     },
     "metadata": {},
     "output_type": "display_data"
    },
    {
     "data": {
      "application/vnd.jupyter.widget-view+json": {
       "model_id": "2bfd1f455c8c4749927653aae9017460",
       "version_major": 2,
       "version_minor": 0
      },
      "text/plain": [
       "Calculating Metrics:   0%|          | 0/6 [00:00<?, ?it/s]"
      ]
     },
     "metadata": {},
     "output_type": "display_data"
    },
    {
     "data": {
      "application/vnd.jupyter.widget-view+json": {
       "model_id": "bfbe429eebf64bd9bba5454006dc5989",
       "version_major": 2,
       "version_minor": 0
      },
      "text/plain": [
       "Calculating Metrics:   0%|          | 0/7 [00:00<?, ?it/s]"
      ]
     },
     "metadata": {},
     "output_type": "display_data"
    },
    {
     "data": {
      "application/vnd.jupyter.widget-view+json": {
       "model_id": "3041a57d2092406d9cbbb5991f9d2276",
       "version_major": 2,
       "version_minor": 0
      },
      "text/plain": [
       "Calculating Metrics:   0%|          | 0/7 [00:00<?, ?it/s]"
      ]
     },
     "metadata": {},
     "output_type": "display_data"
    },
    {
     "data": {
      "application/vnd.jupyter.widget-view+json": {
       "model_id": "09d617eb3cb544f0bdc1763c2ff20d4d",
       "version_major": 2,
       "version_minor": 0
      },
      "text/plain": [
       "Calculating Metrics:   0%|          | 0/1 [00:00<?, ?it/s]"
      ]
     },
     "metadata": {},
     "output_type": "display_data"
    },
    {
     "data": {
      "application/vnd.jupyter.widget-view+json": {
       "model_id": "8073774826ab45c98f4f7e721e66e2fd",
       "version_major": 2,
       "version_minor": 0
      },
      "text/plain": [
       "Calculating Metrics:   0%|          | 0/4 [00:00<?, ?it/s]"
      ]
     },
     "metadata": {},
     "output_type": "display_data"
    },
    {
     "data": {
      "application/vnd.jupyter.widget-view+json": {
       "model_id": "8d9da0c932aa4b48b13f651929a1952f",
       "version_major": 2,
       "version_minor": 0
      },
      "text/plain": [
       "Calculating Metrics:   0%|          | 0/4 [00:00<?, ?it/s]"
      ]
     },
     "metadata": {},
     "output_type": "display_data"
    },
    {
     "data": {
      "application/vnd.jupyter.widget-view+json": {
       "model_id": "4b66e83c42e444af95f89dccf4dc4d73",
       "version_major": 2,
       "version_minor": 0
      },
      "text/plain": [
       "Calculating Metrics:   0%|          | 0/8 [00:00<?, ?it/s]"
      ]
     },
     "metadata": {},
     "output_type": "display_data"
    },
    {
     "data": {
      "application/vnd.jupyter.widget-view+json": {
       "model_id": "d37767a5be7f4cd0a5e499eee2f405d1",
       "version_major": 2,
       "version_minor": 0
      },
      "text/plain": [
       "Calculating Metrics:   0%|          | 0/6 [00:00<?, ?it/s]"
      ]
     },
     "metadata": {},
     "output_type": "display_data"
    },
    {
     "data": {
      "application/vnd.jupyter.widget-view+json": {
       "model_id": "2f9ddb3a74214d659297731afbcdf917",
       "version_major": 2,
       "version_minor": 0
      },
      "text/plain": [
       "Calculating Metrics:   0%|          | 0/7 [00:00<?, ?it/s]"
      ]
     },
     "metadata": {},
     "output_type": "display_data"
    },
    {
     "data": {
      "application/vnd.jupyter.widget-view+json": {
       "model_id": "945b1230e90340a48f7627a327f3b081",
       "version_major": 2,
       "version_minor": 0
      },
      "text/plain": [
       "Calculating Metrics:   0%|          | 0/7 [00:00<?, ?it/s]"
      ]
     },
     "metadata": {},
     "output_type": "display_data"
    },
    {
     "data": {
      "application/vnd.jupyter.widget-view+json": {
       "model_id": "118cef1a01384f8fa5349eb7996c0b31",
       "version_major": 2,
       "version_minor": 0
      },
      "text/plain": [
       "Calculating Metrics:   0%|          | 0/1 [00:00<?, ?it/s]"
      ]
     },
     "metadata": {},
     "output_type": "display_data"
    },
    {
     "data": {
      "application/vnd.jupyter.widget-view+json": {
       "model_id": "10e7a8eefabf4a35b5d13b4798caff9c",
       "version_major": 2,
       "version_minor": 0
      },
      "text/plain": [
       "Calculating Metrics:   0%|          | 0/4 [00:00<?, ?it/s]"
      ]
     },
     "metadata": {},
     "output_type": "display_data"
    },
    {
     "data": {
      "application/vnd.jupyter.widget-view+json": {
       "model_id": "84bbca12bf664859b17b480c99abd60e",
       "version_major": 2,
       "version_minor": 0
      },
      "text/plain": [
       "Calculating Metrics:   0%|          | 0/4 [00:00<?, ?it/s]"
      ]
     },
     "metadata": {},
     "output_type": "display_data"
    },
    {
     "data": {
      "application/vnd.jupyter.widget-view+json": {
       "model_id": "a72d4fc2b1a8487d98ff2aa17a8b7f10",
       "version_major": 2,
       "version_minor": 0
      },
      "text/plain": [
       "Calculating Metrics:   0%|          | 0/4 [00:00<?, ?it/s]"
      ]
     },
     "metadata": {},
     "output_type": "display_data"
    },
    {
     "data": {
      "application/vnd.jupyter.widget-view+json": {
       "model_id": "b23dd3ebb609408fb9e15c551a34a2cd",
       "version_major": 2,
       "version_minor": 0
      },
      "text/plain": [
       "Calculating Metrics:   0%|          | 0/4 [00:00<?, ?it/s]"
      ]
     },
     "metadata": {},
     "output_type": "display_data"
    },
    {
     "data": {
      "application/vnd.jupyter.widget-view+json": {
       "model_id": "951a1a5372a7407b9bcc09e79ff55888",
       "version_major": 2,
       "version_minor": 0
      },
      "text/plain": [
       "Calculating Metrics:   0%|          | 0/4 [00:00<?, ?it/s]"
      ]
     },
     "metadata": {},
     "output_type": "display_data"
    },
    {
     "data": {
      "application/vnd.jupyter.widget-view+json": {
       "model_id": "dee26c758c5b4353a4cc79d42555690f",
       "version_major": 2,
       "version_minor": 0
      },
      "text/plain": [
       "Calculating Metrics:   0%|          | 0/4 [00:00<?, ?it/s]"
      ]
     },
     "metadata": {},
     "output_type": "display_data"
    },
    {
     "data": {
      "application/vnd.jupyter.widget-view+json": {
       "model_id": "555b7e2a3cb14a80a8adb5e46f8642ae",
       "version_major": 2,
       "version_minor": 0
      },
      "text/plain": [
       "Calculating Metrics:   0%|          | 0/4 [00:00<?, ?it/s]"
      ]
     },
     "metadata": {},
     "output_type": "display_data"
    },
    {
     "data": {
      "application/vnd.jupyter.widget-view+json": {
       "model_id": "6bebeaec8cb24521bbfd4a1e28fe15fc",
       "version_major": 2,
       "version_minor": 0
      },
      "text/plain": [
       "Calculating Metrics:   0%|          | 0/4 [00:00<?, ?it/s]"
      ]
     },
     "metadata": {},
     "output_type": "display_data"
    },
    {
     "data": {
      "application/vnd.jupyter.widget-view+json": {
       "model_id": "d9d4308340ac4f2b8727d9d0f678f705",
       "version_major": 2,
       "version_minor": 0
      },
      "text/plain": [
       "Calculating Metrics:   0%|          | 0/4 [00:00<?, ?it/s]"
      ]
     },
     "metadata": {},
     "output_type": "display_data"
    },
    {
     "data": {
      "application/vnd.jupyter.widget-view+json": {
       "model_id": "cf0dc0125cc34c5783c4937f29dde0a4",
       "version_major": 2,
       "version_minor": 0
      },
      "text/plain": [
       "Calculating Metrics:   0%|          | 0/4 [00:00<?, ?it/s]"
      ]
     },
     "metadata": {},
     "output_type": "display_data"
    },
    {
     "data": {
      "application/vnd.jupyter.widget-view+json": {
       "model_id": "fa595fa250984fa69e5b8f92a54e99e6",
       "version_major": 2,
       "version_minor": 0
      },
      "text/plain": [
       "Calculating Metrics:   0%|          | 0/6 [00:00<?, ?it/s]"
      ]
     },
     "metadata": {},
     "output_type": "display_data"
    },
    {
     "data": {
      "application/vnd.jupyter.widget-view+json": {
       "model_id": "a03b0cbb2eec425284eb72ccc3b343f3",
       "version_major": 2,
       "version_minor": 0
      },
      "text/plain": [
       "Calculating Metrics:   0%|          | 0/7 [00:00<?, ?it/s]"
      ]
     },
     "metadata": {},
     "output_type": "display_data"
    },
    {
     "data": {
      "application/vnd.jupyter.widget-view+json": {
       "model_id": "248bfd984a41448aa403a1d3639fe64f",
       "version_major": 2,
       "version_minor": 0
      },
      "text/plain": [
       "Calculating Metrics:   0%|          | 0/7 [00:00<?, ?it/s]"
      ]
     },
     "metadata": {},
     "output_type": "display_data"
    },
    {
     "data": {
      "application/vnd.jupyter.widget-view+json": {
       "model_id": "3d0e72aad2e4474191c373aeeeffa869",
       "version_major": 2,
       "version_minor": 0
      },
      "text/plain": [
       "Calculating Metrics:   0%|          | 0/8 [00:00<?, ?it/s]"
      ]
     },
     "metadata": {},
     "output_type": "display_data"
    },
    {
     "data": {
      "application/vnd.jupyter.widget-view+json": {
       "model_id": "9449cbbf2d6e4a569aa3e4198aff2d59",
       "version_major": 2,
       "version_minor": 0
      },
      "text/plain": [
       "Calculating Metrics:   0%|          | 0/4 [00:00<?, ?it/s]"
      ]
     },
     "metadata": {},
     "output_type": "display_data"
    },
    {
     "data": {
      "application/vnd.jupyter.widget-view+json": {
       "model_id": "27297bc1a88a4e3c9df6d301b664538e",
       "version_major": 2,
       "version_minor": 0
      },
      "text/plain": [
       "Calculating Metrics:   0%|          | 0/4 [00:00<?, ?it/s]"
      ]
     },
     "metadata": {},
     "output_type": "display_data"
    },
    {
     "data": {
      "application/vnd.jupyter.widget-view+json": {
       "model_id": "475e36da50674de395959af488ff01b7",
       "version_major": 2,
       "version_minor": 0
      },
      "text/plain": [
       "Calculating Metrics:   0%|          | 0/4 [00:00<?, ?it/s]"
      ]
     },
     "metadata": {},
     "output_type": "display_data"
    },
    {
     "data": {
      "application/vnd.jupyter.widget-view+json": {
       "model_id": "dbdf8f5c830340ca93687a20ded6514e",
       "version_major": 2,
       "version_minor": 0
      },
      "text/plain": [
       "Calculating Metrics:   0%|          | 0/4 [00:00<?, ?it/s]"
      ]
     },
     "metadata": {},
     "output_type": "display_data"
    },
    {
     "data": {
      "application/vnd.jupyter.widget-view+json": {
       "model_id": "0deaa12b76df48fca1012322520e3d27",
       "version_major": 2,
       "version_minor": 0
      },
      "text/plain": [
       "Calculating Metrics:   0%|          | 0/4 [00:00<?, ?it/s]"
      ]
     },
     "metadata": {},
     "output_type": "display_data"
    },
    {
     "data": {
      "application/vnd.jupyter.widget-view+json": {
       "model_id": "b2a9e63c9fc7475e8817dfc234807bc1",
       "version_major": 2,
       "version_minor": 0
      },
      "text/plain": [
       "Calculating Metrics:   0%|          | 0/4 [00:00<?, ?it/s]"
      ]
     },
     "metadata": {},
     "output_type": "display_data"
    },
    {
     "data": {
      "application/vnd.jupyter.widget-view+json": {
       "model_id": "268c999221b34eb28475bdf818a2cea4",
       "version_major": 2,
       "version_minor": 0
      },
      "text/plain": [
       "Calculating Metrics:   0%|          | 0/4 [00:00<?, ?it/s]"
      ]
     },
     "metadata": {},
     "output_type": "display_data"
    },
    {
     "data": {
      "application/vnd.jupyter.widget-view+json": {
       "model_id": "7f54650b45c2437fbd1d8416089ede4d",
       "version_major": 2,
       "version_minor": 0
      },
      "text/plain": [
       "Calculating Metrics:   0%|          | 0/4 [00:00<?, ?it/s]"
      ]
     },
     "metadata": {},
     "output_type": "display_data"
    },
    {
     "data": {
      "application/vnd.jupyter.widget-view+json": {
       "model_id": "f93249f5435643228bf23cf95f0f2a35",
       "version_major": 2,
       "version_minor": 0
      },
      "text/plain": [
       "Calculating Metrics:   0%|          | 0/4 [00:00<?, ?it/s]"
      ]
     },
     "metadata": {},
     "output_type": "display_data"
    },
    {
     "data": {
      "application/vnd.jupyter.widget-view+json": {
       "model_id": "daaf185ac2fc435bb4931ddb698d0596",
       "version_major": 2,
       "version_minor": 0
      },
      "text/plain": [
       "Calculating Metrics:   0%|          | 0/4 [00:00<?, ?it/s]"
      ]
     },
     "metadata": {},
     "output_type": "display_data"
    },
    {
     "data": {
      "application/vnd.jupyter.widget-view+json": {
       "model_id": "65ff3c2b5be343c393d37ae5142fc4f7",
       "version_major": 2,
       "version_minor": 0
      },
      "text/plain": [
       "Calculating Metrics:   0%|          | 0/6 [00:00<?, ?it/s]"
      ]
     },
     "metadata": {},
     "output_type": "display_data"
    },
    {
     "data": {
      "application/vnd.jupyter.widget-view+json": {
       "model_id": "6be32b33f2ae4e84b6a87ddef01df86f",
       "version_major": 2,
       "version_minor": 0
      },
      "text/plain": [
       "Calculating Metrics:   0%|          | 0/7 [00:00<?, ?it/s]"
      ]
     },
     "metadata": {},
     "output_type": "display_data"
    },
    {
     "data": {
      "application/vnd.jupyter.widget-view+json": {
       "model_id": "7f7ae90221da4ff0a32e59abc51bfd6d",
       "version_major": 2,
       "version_minor": 0
      },
      "text/plain": [
       "Calculating Metrics:   0%|          | 0/7 [00:00<?, ?it/s]"
      ]
     },
     "metadata": {},
     "output_type": "display_data"
    },
    {
     "data": {
      "application/vnd.jupyter.widget-view+json": {
       "model_id": "2695b232ff404fb982aaab5570b84bf6",
       "version_major": 2,
       "version_minor": 0
      },
      "text/plain": [
       "Calculating Metrics:   0%|          | 0/8 [00:00<?, ?it/s]"
      ]
     },
     "metadata": {},
     "output_type": "display_data"
    },
    {
     "data": {
      "application/vnd.jupyter.widget-view+json": {
       "model_id": "9eb3d7aef34249a18a1b5444cc540bfe",
       "version_major": 2,
       "version_minor": 0
      },
      "text/plain": [
       "Calculating Metrics:   0%|          | 0/4 [00:00<?, ?it/s]"
      ]
     },
     "metadata": {},
     "output_type": "display_data"
    },
    {
     "data": {
      "application/vnd.jupyter.widget-view+json": {
       "model_id": "f4d6dd43f0a44753a099109993349374",
       "version_major": 2,
       "version_minor": 0
      },
      "text/plain": [
       "Calculating Metrics:   0%|          | 0/4 [00:00<?, ?it/s]"
      ]
     },
     "metadata": {},
     "output_type": "display_data"
    },
    {
     "data": {
      "application/vnd.jupyter.widget-view+json": {
       "model_id": "d1ca9b1f74d14af4bbf340d795f00b6b",
       "version_major": 2,
       "version_minor": 0
      },
      "text/plain": [
       "Calculating Metrics:   0%|          | 0/4 [00:00<?, ?it/s]"
      ]
     },
     "metadata": {},
     "output_type": "display_data"
    },
    {
     "data": {
      "application/vnd.jupyter.widget-view+json": {
       "model_id": "493c7bf62ec84537a45675ae0d957693",
       "version_major": 2,
       "version_minor": 0
      },
      "text/plain": [
       "Calculating Metrics:   0%|          | 0/4 [00:00<?, ?it/s]"
      ]
     },
     "metadata": {},
     "output_type": "display_data"
    },
    {
     "data": {
      "application/vnd.jupyter.widget-view+json": {
       "model_id": "4c101edfa3c74e15ad022e9742e728b7",
       "version_major": 2,
       "version_minor": 0
      },
      "text/plain": [
       "Calculating Metrics:   0%|          | 0/4 [00:00<?, ?it/s]"
      ]
     },
     "metadata": {},
     "output_type": "display_data"
    },
    {
     "data": {
      "application/vnd.jupyter.widget-view+json": {
       "model_id": "900ac4c618884c4fb3d5201bd5302049",
       "version_major": 2,
       "version_minor": 0
      },
      "text/plain": [
       "Calculating Metrics:   0%|          | 0/4 [00:00<?, ?it/s]"
      ]
     },
     "metadata": {},
     "output_type": "display_data"
    },
    {
     "data": {
      "application/vnd.jupyter.widget-view+json": {
       "model_id": "cadee5c51db14d30a85a718d9e01fa32",
       "version_major": 2,
       "version_minor": 0
      },
      "text/plain": [
       "Calculating Metrics:   0%|          | 0/4 [00:00<?, ?it/s]"
      ]
     },
     "metadata": {},
     "output_type": "display_data"
    },
    {
     "data": {
      "application/vnd.jupyter.widget-view+json": {
       "model_id": "6134b799316b4549b1854cc35fbdf174",
       "version_major": 2,
       "version_minor": 0
      },
      "text/plain": [
       "Calculating Metrics:   0%|          | 0/4 [00:00<?, ?it/s]"
      ]
     },
     "metadata": {},
     "output_type": "display_data"
    },
    {
     "data": {
      "application/vnd.jupyter.widget-view+json": {
       "model_id": "5093bb80a7f94a0d9a418f0402a547c3",
       "version_major": 2,
       "version_minor": 0
      },
      "text/plain": [
       "Calculating Metrics:   0%|          | 0/4 [00:00<?, ?it/s]"
      ]
     },
     "metadata": {},
     "output_type": "display_data"
    },
    {
     "data": {
      "application/vnd.jupyter.widget-view+json": {
       "model_id": "13c8466e02c74cf6943350c995f0a156",
       "version_major": 2,
       "version_minor": 0
      },
      "text/plain": [
       "Calculating Metrics:   0%|          | 0/4 [00:00<?, ?it/s]"
      ]
     },
     "metadata": {},
     "output_type": "display_data"
    },
    {
     "data": {
      "application/vnd.jupyter.widget-view+json": {
       "model_id": "7c66052a0bcb4fe48d5b5fe33c07df52",
       "version_major": 2,
       "version_minor": 0
      },
      "text/plain": [
       "Calculating Metrics:   0%|          | 0/6 [00:00<?, ?it/s]"
      ]
     },
     "metadata": {},
     "output_type": "display_data"
    },
    {
     "data": {
      "application/vnd.jupyter.widget-view+json": {
       "model_id": "8084c8a930f948068bb59b453be49185",
       "version_major": 2,
       "version_minor": 0
      },
      "text/plain": [
       "Calculating Metrics:   0%|          | 0/7 [00:00<?, ?it/s]"
      ]
     },
     "metadata": {},
     "output_type": "display_data"
    },
    {
     "data": {
      "application/vnd.jupyter.widget-view+json": {
       "model_id": "6cdbe74b0148425a83310187f4183481",
       "version_major": 2,
       "version_minor": 0
      },
      "text/plain": [
       "Calculating Metrics:   0%|          | 0/7 [00:00<?, ?it/s]"
      ]
     },
     "metadata": {},
     "output_type": "display_data"
    },
    {
     "data": {
      "application/vnd.jupyter.widget-view+json": {
       "model_id": "8dbfb2368905496faaae5151a0e912b2",
       "version_major": 2,
       "version_minor": 0
      },
      "text/plain": [
       "Calculating Metrics:   0%|          | 0/1 [00:00<?, ?it/s]"
      ]
     },
     "metadata": {},
     "output_type": "display_data"
    },
    {
     "data": {
      "application/vnd.jupyter.widget-view+json": {
       "model_id": "de9384f3ffeb4fa4bfc408b0e6b1052a",
       "version_major": 2,
       "version_minor": 0
      },
      "text/plain": [
       "Calculating Metrics:   0%|          | 0/4 [00:00<?, ?it/s]"
      ]
     },
     "metadata": {},
     "output_type": "display_data"
    },
    {
     "data": {
      "application/vnd.jupyter.widget-view+json": {
       "model_id": "7c01de9d570a4971a355f6c2749748a9",
       "version_major": 2,
       "version_minor": 0
      },
      "text/plain": [
       "Calculating Metrics:   0%|          | 0/4 [00:00<?, ?it/s]"
      ]
     },
     "metadata": {},
     "output_type": "display_data"
    },
    {
     "data": {
      "application/vnd.jupyter.widget-view+json": {
       "model_id": "12a73ea949224faa9a9be9d1177c0d12",
       "version_major": 2,
       "version_minor": 0
      },
      "text/plain": [
       "Calculating Metrics:   0%|          | 0/4 [00:00<?, ?it/s]"
      ]
     },
     "metadata": {},
     "output_type": "display_data"
    },
    {
     "data": {
      "application/vnd.jupyter.widget-view+json": {
       "model_id": "09b7f9daa3114c6ab268a827bbdad3aa",
       "version_major": 2,
       "version_minor": 0
      },
      "text/plain": [
       "Calculating Metrics:   0%|          | 0/4 [00:00<?, ?it/s]"
      ]
     },
     "metadata": {},
     "output_type": "display_data"
    },
    {
     "data": {
      "application/vnd.jupyter.widget-view+json": {
       "model_id": "f0133953b00d4bd8821b004c3136978e",
       "version_major": 2,
       "version_minor": 0
      },
      "text/plain": [
       "Calculating Metrics:   0%|          | 0/4 [00:00<?, ?it/s]"
      ]
     },
     "metadata": {},
     "output_type": "display_data"
    },
    {
     "data": {
      "application/vnd.jupyter.widget-view+json": {
       "model_id": "c748dcd722694625adc8a917d3b872bf",
       "version_major": 2,
       "version_minor": 0
      },
      "text/plain": [
       "Calculating Metrics:   0%|          | 0/4 [00:00<?, ?it/s]"
      ]
     },
     "metadata": {},
     "output_type": "display_data"
    },
    {
     "data": {
      "application/vnd.jupyter.widget-view+json": {
       "model_id": "948d0f53fcd04e6aae0eecf280bdbddc",
       "version_major": 2,
       "version_minor": 0
      },
      "text/plain": [
       "Calculating Metrics:   0%|          | 0/4 [00:00<?, ?it/s]"
      ]
     },
     "metadata": {},
     "output_type": "display_data"
    },
    {
     "data": {
      "application/vnd.jupyter.widget-view+json": {
       "model_id": "13cbc7f263dd45988d56fa79f1e37b9b",
       "version_major": 2,
       "version_minor": 0
      },
      "text/plain": [
       "Calculating Metrics:   0%|          | 0/4 [00:00<?, ?it/s]"
      ]
     },
     "metadata": {},
     "output_type": "display_data"
    },
    {
     "data": {
      "application/vnd.jupyter.widget-view+json": {
       "model_id": "da8b28add6b1421b8a26311cba9254ac",
       "version_major": 2,
       "version_minor": 0
      },
      "text/plain": [
       "Calculating Metrics:   0%|          | 0/4 [00:00<?, ?it/s]"
      ]
     },
     "metadata": {},
     "output_type": "display_data"
    },
    {
     "data": {
      "application/vnd.jupyter.widget-view+json": {
       "model_id": "90aa79a68fcb435e8cb72e9e076e49a9",
       "version_major": 2,
       "version_minor": 0
      },
      "text/plain": [
       "Calculating Metrics:   0%|          | 0/4 [00:00<?, ?it/s]"
      ]
     },
     "metadata": {},
     "output_type": "display_data"
    },
    {
     "data": {
      "application/vnd.jupyter.widget-view+json": {
       "model_id": "e5f1d59721a841618bd7b3f82363822e",
       "version_major": 2,
       "version_minor": 0
      },
      "text/plain": [
       "Calculating Metrics:   0%|          | 0/6 [00:00<?, ?it/s]"
      ]
     },
     "metadata": {},
     "output_type": "display_data"
    },
    {
     "data": {
      "application/vnd.jupyter.widget-view+json": {
       "model_id": "454938f5fd0f455695f2a5d6669a548c",
       "version_major": 2,
       "version_minor": 0
      },
      "text/plain": [
       "Calculating Metrics:   0%|          | 0/7 [00:00<?, ?it/s]"
      ]
     },
     "metadata": {},
     "output_type": "display_data"
    },
    {
     "data": {
      "application/vnd.jupyter.widget-view+json": {
       "model_id": "03bccac9a54a4a6ebf8d86928bd7544b",
       "version_major": 2,
       "version_minor": 0
      },
      "text/plain": [
       "Calculating Metrics:   0%|          | 0/7 [00:00<?, ?it/s]"
      ]
     },
     "metadata": {},
     "output_type": "display_data"
    },
    {
     "data": {
      "application/vnd.jupyter.widget-view+json": {
       "model_id": "64d39ecbef0d4a7eace6bd0736b5456d",
       "version_major": 2,
       "version_minor": 0
      },
      "text/plain": [
       "Calculating Metrics:   0%|          | 0/8 [00:00<?, ?it/s]"
      ]
     },
     "metadata": {},
     "output_type": "display_data"
    },
    {
     "data": {
      "application/vnd.jupyter.widget-view+json": {
       "model_id": "a127da3ddd214da89e4cca1278a77afb",
       "version_major": 2,
       "version_minor": 0
      },
      "text/plain": [
       "Calculating Metrics:   0%|          | 0/4 [00:00<?, ?it/s]"
      ]
     },
     "metadata": {},
     "output_type": "display_data"
    },
    {
     "data": {
      "application/vnd.jupyter.widget-view+json": {
       "model_id": "224ec34284534fbcb86a0452e9318099",
       "version_major": 2,
       "version_minor": 0
      },
      "text/plain": [
       "Calculating Metrics:   0%|          | 0/4 [00:00<?, ?it/s]"
      ]
     },
     "metadata": {},
     "output_type": "display_data"
    },
    {
     "data": {
      "application/vnd.jupyter.widget-view+json": {
       "model_id": "339acfa3b50942a5a06a2428b213bee2",
       "version_major": 2,
       "version_minor": 0
      },
      "text/plain": [
       "Calculating Metrics:   0%|          | 0/4 [00:00<?, ?it/s]"
      ]
     },
     "metadata": {},
     "output_type": "display_data"
    },
    {
     "data": {
      "application/vnd.jupyter.widget-view+json": {
       "model_id": "07b433ebc4a94514b60599d8ad065282",
       "version_major": 2,
       "version_minor": 0
      },
      "text/plain": [
       "Calculating Metrics:   0%|          | 0/4 [00:00<?, ?it/s]"
      ]
     },
     "metadata": {},
     "output_type": "display_data"
    },
    {
     "data": {
      "application/vnd.jupyter.widget-view+json": {
       "model_id": "5d1123a04442482fb3e56d6f0f83a8bc",
       "version_major": 2,
       "version_minor": 0
      },
      "text/plain": [
       "Calculating Metrics:   0%|          | 0/4 [00:00<?, ?it/s]"
      ]
     },
     "metadata": {},
     "output_type": "display_data"
    },
    {
     "data": {
      "application/vnd.jupyter.widget-view+json": {
       "model_id": "76884baaa7024eb0a04067fa048cb2ba",
       "version_major": 2,
       "version_minor": 0
      },
      "text/plain": [
       "Calculating Metrics:   0%|          | 0/4 [00:00<?, ?it/s]"
      ]
     },
     "metadata": {},
     "output_type": "display_data"
    },
    {
     "data": {
      "application/vnd.jupyter.widget-view+json": {
       "model_id": "6aa9290bb65b4f6c82e2297777012648",
       "version_major": 2,
       "version_minor": 0
      },
      "text/plain": [
       "Calculating Metrics:   0%|          | 0/4 [00:00<?, ?it/s]"
      ]
     },
     "metadata": {},
     "output_type": "display_data"
    },
    {
     "data": {
      "application/vnd.jupyter.widget-view+json": {
       "model_id": "1a02d54dfebf4c9496738e89ab7bddbc",
       "version_major": 2,
       "version_minor": 0
      },
      "text/plain": [
       "Calculating Metrics:   0%|          | 0/4 [00:00<?, ?it/s]"
      ]
     },
     "metadata": {},
     "output_type": "display_data"
    },
    {
     "data": {
      "application/vnd.jupyter.widget-view+json": {
       "model_id": "1ba68ff7c90a49ceb264b90bdf953fa3",
       "version_major": 2,
       "version_minor": 0
      },
      "text/plain": [
       "Calculating Metrics:   0%|          | 0/4 [00:00<?, ?it/s]"
      ]
     },
     "metadata": {},
     "output_type": "display_data"
    },
    {
     "data": {
      "application/vnd.jupyter.widget-view+json": {
       "model_id": "fba7e1d10ab648acb05d6dbd022409c5",
       "version_major": 2,
       "version_minor": 0
      },
      "text/plain": [
       "Calculating Metrics:   0%|          | 0/4 [00:00<?, ?it/s]"
      ]
     },
     "metadata": {},
     "output_type": "display_data"
    },
    {
     "data": {
      "application/vnd.jupyter.widget-view+json": {
       "model_id": "404f55cd2b674b61af35efb7308e0034",
       "version_major": 2,
       "version_minor": 0
      },
      "text/plain": [
       "Calculating Metrics:   0%|          | 0/4 [00:00<?, ?it/s]"
      ]
     },
     "metadata": {},
     "output_type": "display_data"
    },
    {
     "data": {
      "application/vnd.jupyter.widget-view+json": {
       "model_id": "9b7106d24ea14da490de72afdc9598f6",
       "version_major": 2,
       "version_minor": 0
      },
      "text/plain": [
       "Calculating Metrics:   0%|          | 0/8 [00:00<?, ?it/s]"
      ]
     },
     "metadata": {},
     "output_type": "display_data"
    },
    {
     "data": {
      "application/vnd.jupyter.widget-view+json": {
       "model_id": "dd1ab4ada8fd472580c3711804025d63",
       "version_major": 2,
       "version_minor": 0
      },
      "text/plain": [
       "Calculating Metrics:   0%|          | 0/6 [00:00<?, ?it/s]"
      ]
     },
     "metadata": {},
     "output_type": "display_data"
    },
    {
     "data": {
      "application/vnd.jupyter.widget-view+json": {
       "model_id": "083370923c974969b1c7a57173e924c6",
       "version_major": 2,
       "version_minor": 0
      },
      "text/plain": [
       "Calculating Metrics:   0%|          | 0/7 [00:00<?, ?it/s]"
      ]
     },
     "metadata": {},
     "output_type": "display_data"
    },
    {
     "data": {
      "application/vnd.jupyter.widget-view+json": {
       "model_id": "a25cb5a2cec445f6aca9dc026d1483fb",
       "version_major": 2,
       "version_minor": 0
      },
      "text/plain": [
       "Calculating Metrics:   0%|          | 0/7 [00:00<?, ?it/s]"
      ]
     },
     "metadata": {},
     "output_type": "display_data"
    },
    {
     "data": {
      "application/vnd.jupyter.widget-view+json": {
       "model_id": "f170a89aa7d649f69444b43c8a6238f7",
       "version_major": 2,
       "version_minor": 0
      },
      "text/plain": [
       "Calculating Metrics:   0%|          | 0/8 [00:00<?, ?it/s]"
      ]
     },
     "metadata": {},
     "output_type": "display_data"
    },
    {
     "data": {
      "application/vnd.jupyter.widget-view+json": {
       "model_id": "c6caa921b1864f53a964199b909c707a",
       "version_major": 2,
       "version_minor": 0
      },
      "text/plain": [
       "Calculating Metrics:   0%|          | 0/4 [00:00<?, ?it/s]"
      ]
     },
     "metadata": {},
     "output_type": "display_data"
    },
    {
     "data": {
      "application/vnd.jupyter.widget-view+json": {
       "model_id": "121424f2d12e4bf6ad0b8e73fc475480",
       "version_major": 2,
       "version_minor": 0
      },
      "text/plain": [
       "Calculating Metrics:   0%|          | 0/4 [00:00<?, ?it/s]"
      ]
     },
     "metadata": {},
     "output_type": "display_data"
    },
    {
     "data": {
      "application/vnd.jupyter.widget-view+json": {
       "model_id": "c30cc92c1286473fa8da3aa427d2e0e7",
       "version_major": 2,
       "version_minor": 0
      },
      "text/plain": [
       "Calculating Metrics:   0%|          | 0/4 [00:00<?, ?it/s]"
      ]
     },
     "metadata": {},
     "output_type": "display_data"
    },
    {
     "data": {
      "application/vnd.jupyter.widget-view+json": {
       "model_id": "261adba7ea2c45a5a6ed4351fc69f442",
       "version_major": 2,
       "version_minor": 0
      },
      "text/plain": [
       "Calculating Metrics:   0%|          | 0/4 [00:00<?, ?it/s]"
      ]
     },
     "metadata": {},
     "output_type": "display_data"
    },
    {
     "data": {
      "application/vnd.jupyter.widget-view+json": {
       "model_id": "b5e2f88d4eb74748a9a85d6f4348b3d2",
       "version_major": 2,
       "version_minor": 0
      },
      "text/plain": [
       "Calculating Metrics:   0%|          | 0/4 [00:00<?, ?it/s]"
      ]
     },
     "metadata": {},
     "output_type": "display_data"
    },
    {
     "data": {
      "application/vnd.jupyter.widget-view+json": {
       "model_id": "405006d709e1404e9790963a3575f49f",
       "version_major": 2,
       "version_minor": 0
      },
      "text/plain": [
       "Calculating Metrics:   0%|          | 0/4 [00:00<?, ?it/s]"
      ]
     },
     "metadata": {},
     "output_type": "display_data"
    },
    {
     "data": {
      "application/vnd.jupyter.widget-view+json": {
       "model_id": "3b7f6dbcc31341ad989110468f172b30",
       "version_major": 2,
       "version_minor": 0
      },
      "text/plain": [
       "Calculating Metrics:   0%|          | 0/4 [00:00<?, ?it/s]"
      ]
     },
     "metadata": {},
     "output_type": "display_data"
    },
    {
     "data": {
      "application/vnd.jupyter.widget-view+json": {
       "model_id": "27e05e5238394492a173049505eef7a6",
       "version_major": 2,
       "version_minor": 0
      },
      "text/plain": [
       "Calculating Metrics:   0%|          | 0/4 [00:00<?, ?it/s]"
      ]
     },
     "metadata": {},
     "output_type": "display_data"
    },
    {
     "data": {
      "application/vnd.jupyter.widget-view+json": {
       "model_id": "d7d23c80709544e09fa4637b40cd59cf",
       "version_major": 2,
       "version_minor": 0
      },
      "text/plain": [
       "Calculating Metrics:   0%|          | 0/4 [00:00<?, ?it/s]"
      ]
     },
     "metadata": {},
     "output_type": "display_data"
    },
    {
     "data": {
      "application/vnd.jupyter.widget-view+json": {
       "model_id": "573b7a0596714dd8b0f55d241a7189ac",
       "version_major": 2,
       "version_minor": 0
      },
      "text/plain": [
       "Calculating Metrics:   0%|          | 0/4 [00:00<?, ?it/s]"
      ]
     },
     "metadata": {},
     "output_type": "display_data"
    },
    {
     "data": {
      "application/vnd.jupyter.widget-view+json": {
       "model_id": "8b27a1d8b76b4a80ae727b9dbab7262b",
       "version_major": 2,
       "version_minor": 0
      },
      "text/plain": [
       "Calculating Metrics:   0%|          | 0/4 [00:00<?, ?it/s]"
      ]
     },
     "metadata": {},
     "output_type": "display_data"
    },
    {
     "data": {
      "application/vnd.jupyter.widget-view+json": {
       "model_id": "6246dd04f9fd4a678f5c733f43555b78",
       "version_major": 2,
       "version_minor": 0
      },
      "text/plain": [
       "Calculating Metrics:   0%|          | 0/8 [00:00<?, ?it/s]"
      ]
     },
     "metadata": {},
     "output_type": "display_data"
    },
    {
     "data": {
      "application/vnd.jupyter.widget-view+json": {
       "model_id": "d21e215459614a8a8fe9e0a0ba2258b6",
       "version_major": 2,
       "version_minor": 0
      },
      "text/plain": [
       "Calculating Metrics:   0%|          | 0/6 [00:00<?, ?it/s]"
      ]
     },
     "metadata": {},
     "output_type": "display_data"
    },
    {
     "data": {
      "application/vnd.jupyter.widget-view+json": {
       "model_id": "cdedb8a75ac549d6ab299b5ee6bf3361",
       "version_major": 2,
       "version_minor": 0
      },
      "text/plain": [
       "Calculating Metrics:   0%|          | 0/7 [00:00<?, ?it/s]"
      ]
     },
     "metadata": {},
     "output_type": "display_data"
    },
    {
     "data": {
      "application/vnd.jupyter.widget-view+json": {
       "model_id": "ee39100dac624281807e4b51d604c059",
       "version_major": 2,
       "version_minor": 0
      },
      "text/plain": [
       "Calculating Metrics:   0%|          | 0/7 [00:00<?, ?it/s]"
      ]
     },
     "metadata": {},
     "output_type": "display_data"
    },
    {
     "data": {
      "application/vnd.jupyter.widget-view+json": {
       "model_id": "a6a897822fd044e3b786eb39fafe64c9",
       "version_major": 2,
       "version_minor": 0
      },
      "text/plain": [
       "Calculating Metrics:   0%|          | 0/1 [00:00<?, ?it/s]"
      ]
     },
     "metadata": {},
     "output_type": "display_data"
    },
    {
     "data": {
      "application/vnd.jupyter.widget-view+json": {
       "model_id": "9e4594478d924b899b02f733cfcbd68a",
       "version_major": 2,
       "version_minor": 0
      },
      "text/plain": [
       "Calculating Metrics:   0%|          | 0/4 [00:00<?, ?it/s]"
      ]
     },
     "metadata": {},
     "output_type": "display_data"
    },
    {
     "data": {
      "application/vnd.jupyter.widget-view+json": {
       "model_id": "cddc640bc3a241a38583d80c0682076a",
       "version_major": 2,
       "version_minor": 0
      },
      "text/plain": [
       "Calculating Metrics:   0%|          | 0/4 [00:00<?, ?it/s]"
      ]
     },
     "metadata": {},
     "output_type": "display_data"
    },
    {
     "data": {
      "application/vnd.jupyter.widget-view+json": {
       "model_id": "49534ff3ace744f4ad8670f44096f394",
       "version_major": 2,
       "version_minor": 0
      },
      "text/plain": [
       "Calculating Metrics:   0%|          | 0/4 [00:00<?, ?it/s]"
      ]
     },
     "metadata": {},
     "output_type": "display_data"
    },
    {
     "data": {
      "application/vnd.jupyter.widget-view+json": {
       "model_id": "8736f94ca856445eb406a4eff7e2f30b",
       "version_major": 2,
       "version_minor": 0
      },
      "text/plain": [
       "Calculating Metrics:   0%|          | 0/4 [00:00<?, ?it/s]"
      ]
     },
     "metadata": {},
     "output_type": "display_data"
    },
    {
     "data": {
      "application/vnd.jupyter.widget-view+json": {
       "model_id": "aff34a997baa4292b18322c7a31e34f1",
       "version_major": 2,
       "version_minor": 0
      },
      "text/plain": [
       "Calculating Metrics:   0%|          | 0/4 [00:00<?, ?it/s]"
      ]
     },
     "metadata": {},
     "output_type": "display_data"
    },
    {
     "data": {
      "application/vnd.jupyter.widget-view+json": {
       "model_id": "f7e126af4bbd4f66b20a51006203e4ba",
       "version_major": 2,
       "version_minor": 0
      },
      "text/plain": [
       "Calculating Metrics:   0%|          | 0/4 [00:00<?, ?it/s]"
      ]
     },
     "metadata": {},
     "output_type": "display_data"
    },
    {
     "data": {
      "application/vnd.jupyter.widget-view+json": {
       "model_id": "7c124b72b0a74724b974be20d5605de2",
       "version_major": 2,
       "version_minor": 0
      },
      "text/plain": [
       "Calculating Metrics:   0%|          | 0/4 [00:00<?, ?it/s]"
      ]
     },
     "metadata": {},
     "output_type": "display_data"
    },
    {
     "data": {
      "application/vnd.jupyter.widget-view+json": {
       "model_id": "284e51d0b0a84bf8b6758ae494a58d0b",
       "version_major": 2,
       "version_minor": 0
      },
      "text/plain": [
       "Calculating Metrics:   0%|          | 0/4 [00:00<?, ?it/s]"
      ]
     },
     "metadata": {},
     "output_type": "display_data"
    },
    {
     "data": {
      "application/vnd.jupyter.widget-view+json": {
       "model_id": "900ceac6ba21496eb9c958c724953332",
       "version_major": 2,
       "version_minor": 0
      },
      "text/plain": [
       "Calculating Metrics:   0%|          | 0/4 [00:00<?, ?it/s]"
      ]
     },
     "metadata": {},
     "output_type": "display_data"
    },
    {
     "data": {
      "application/vnd.jupyter.widget-view+json": {
       "model_id": "758a9c747ec34f318890e3796b148a8d",
       "version_major": 2,
       "version_minor": 0
      },
      "text/plain": [
       "Calculating Metrics:   0%|          | 0/4 [00:00<?, ?it/s]"
      ]
     },
     "metadata": {},
     "output_type": "display_data"
    },
    {
     "data": {
      "application/vnd.jupyter.widget-view+json": {
       "model_id": "bd6ec99fe5aa4f4bbaa6c339666227b8",
       "version_major": 2,
       "version_minor": 0
      },
      "text/plain": [
       "Calculating Metrics:   0%|          | 0/4 [00:00<?, ?it/s]"
      ]
     },
     "metadata": {},
     "output_type": "display_data"
    },
    {
     "data": {
      "application/vnd.jupyter.widget-view+json": {
       "model_id": "fb9709d7b76f40b2b4ad10d045e1c8fa",
       "version_major": 2,
       "version_minor": 0
      },
      "text/plain": [
       "Calculating Metrics:   0%|          | 0/8 [00:00<?, ?it/s]"
      ]
     },
     "metadata": {},
     "output_type": "display_data"
    },
    {
     "data": {
      "application/vnd.jupyter.widget-view+json": {
       "model_id": "18f6f24d3e774e37b4f2a15f2d307f30",
       "version_major": 2,
       "version_minor": 0
      },
      "text/plain": [
       "Calculating Metrics:   0%|          | 0/6 [00:00<?, ?it/s]"
      ]
     },
     "metadata": {},
     "output_type": "display_data"
    },
    {
     "data": {
      "application/vnd.jupyter.widget-view+json": {
       "model_id": "20eeb092efcd4738a879dc2be0058906",
       "version_major": 2,
       "version_minor": 0
      },
      "text/plain": [
       "Calculating Metrics:   0%|          | 0/7 [00:00<?, ?it/s]"
      ]
     },
     "metadata": {},
     "output_type": "display_data"
    },
    {
     "data": {
      "application/vnd.jupyter.widget-view+json": {
       "model_id": "67e52fa9624344e588100fb317c0b7bd",
       "version_major": 2,
       "version_minor": 0
      },
      "text/plain": [
       "Calculating Metrics:   0%|          | 0/7 [00:00<?, ?it/s]"
      ]
     },
     "metadata": {},
     "output_type": "display_data"
    },
    {
     "data": {
      "application/vnd.jupyter.widget-view+json": {
       "model_id": "4806bf3e45f94b5bbb4e20755709185d",
       "version_major": 2,
       "version_minor": 0
      },
      "text/plain": [
       "Calculating Metrics:   0%|          | 0/1 [00:00<?, ?it/s]"
      ]
     },
     "metadata": {},
     "output_type": "display_data"
    },
    {
     "name": "stdout",
     "output_type": "stream",
     "text": [
      "Creating an expectation suite with the following expectations:\n",
      "\n",
      "Table-Level Expectations\n",
      "expect_table_columns_to_match_ordered_list\n",
      "expect_table_row_count_to_be_between\n",
      "\n",
      "Expectations by Column\n",
      "Column Name: CUSTOMER_ID | Column Data Type: INT | Cardinality: VERY_MANY\n",
      "expect_column_max_to_be_between\n",
      "expect_column_mean_to_be_between\n",
      "expect_column_median_to_be_between\n",
      "expect_column_min_to_be_between\n",
      "expect_column_proportion_of_unique_values_to_be_between\n",
      "expect_column_quantile_values_to_be_between\n",
      "expect_column_values_to_be_in_type_list\n",
      "expect_column_values_to_not_be_null\n",
      "\n",
      "\n",
      "Column Name: TERMINAL_ID | Column Data Type: INT | Cardinality: VERY_MANY\n",
      "expect_column_max_to_be_between\n",
      "expect_column_mean_to_be_between\n",
      "expect_column_median_to_be_between\n",
      "expect_column_min_to_be_between\n",
      "expect_column_proportion_of_unique_values_to_be_between\n",
      "expect_column_quantile_values_to_be_between\n",
      "expect_column_values_to_be_in_type_list\n",
      "expect_column_values_to_not_be_null\n",
      "\n",
      "\n",
      "Column Name: TRANSACTION_ID | Column Data Type: INT | Cardinality: UNIQUE\n",
      "expect_column_max_to_be_between\n",
      "expect_column_mean_to_be_between\n",
      "expect_column_median_to_be_between\n",
      "expect_column_min_to_be_between\n",
      "expect_column_proportion_of_unique_values_to_be_between\n",
      "expect_column_quantile_values_to_be_between\n",
      "expect_column_values_to_be_in_type_list\n",
      "expect_column_values_to_not_be_null\n",
      "\n",
      "\n",
      "Column Name: TX_AMOUNT | Column Data Type: FLOAT | Cardinality: VERY_MANY\n",
      "expect_column_max_to_be_between\n",
      "expect_column_mean_to_be_between\n",
      "expect_column_median_to_be_between\n",
      "expect_column_min_to_be_between\n",
      "expect_column_proportion_of_unique_values_to_be_between\n",
      "expect_column_quantile_values_to_be_between\n",
      "expect_column_values_to_be_in_type_list\n",
      "expect_column_values_to_not_be_null\n",
      "\n",
      "\n",
      "Column Name: TX_DATETIME | Column Data Type: DATETIME | Cardinality: VERY_MANY\n",
      "expect_column_proportion_of_unique_values_to_be_between\n",
      "expect_column_values_to_be_between\n",
      "expect_column_values_to_be_in_type_list\n",
      "expect_column_values_to_not_be_null\n",
      "\n",
      "\n",
      "Column Name: TX_FRAUD | Column Data Type: INT | Cardinality: TWO\n",
      "expect_column_max_to_be_between\n",
      "expect_column_mean_to_be_between\n",
      "expect_column_median_to_be_between\n",
      "expect_column_min_to_be_between\n",
      "expect_column_proportion_of_unique_values_to_be_between\n",
      "expect_column_quantile_values_to_be_between\n",
      "expect_column_values_to_be_in_set\n",
      "expect_column_values_to_be_in_type_list\n",
      "expect_column_values_to_not_be_null\n",
      "\n",
      "\n",
      "Column Name: TX_FRAUD_SCENARIO | Column Data Type: INT | Cardinality: TWO\n",
      "expect_column_max_to_be_between\n",
      "expect_column_mean_to_be_between\n",
      "expect_column_median_to_be_between\n",
      "expect_column_min_to_be_between\n",
      "expect_column_proportion_of_unique_values_to_be_between\n",
      "expect_column_quantile_values_to_be_between\n",
      "expect_column_values_to_be_in_set\n",
      "expect_column_values_to_be_in_type_list\n",
      "expect_column_values_to_not_be_null\n",
      "\n",
      "\n",
      "Column Name: TX_TIME_DAYS | Column Data Type: INT | Cardinality: ONE\n",
      "expect_column_max_to_be_between\n",
      "expect_column_mean_to_be_between\n",
      "expect_column_median_to_be_between\n",
      "expect_column_min_to_be_between\n",
      "expect_column_proportion_of_unique_values_to_be_between\n",
      "expect_column_quantile_values_to_be_between\n",
      "expect_column_values_to_be_in_set\n",
      "expect_column_values_to_be_in_type_list\n",
      "expect_column_values_to_not_be_null\n",
      "\n",
      "\n",
      "Column Name: TX_TIME_SECONDS | Column Data Type: INT | Cardinality: VERY_MANY\n",
      "expect_column_max_to_be_between\n",
      "expect_column_mean_to_be_between\n",
      "expect_column_median_to_be_between\n",
      "expect_column_min_to_be_between\n",
      "expect_column_proportion_of_unique_values_to_be_between\n",
      "expect_column_quantile_values_to_be_between\n",
      "expect_column_values_to_be_in_type_list\n",
      "expect_column_values_to_not_be_null\n",
      "\n",
      "\n"
     ]
    }
   ],
   "source": [
    "## Using automated process to generate expectation suite\n",
    "### This is a good starting point, then you continue from here to create addition ones\n",
    "from great_expectations.profile.user_configurable_profiler import UserConfigurableProfiler\n",
    "\n",
    "profiler = UserConfigurableProfiler(profile_dataset=validator)\n",
    "suite = profiler.build_suite()\n"
   ]
  },
  {
   "cell_type": "code",
   "execution_count": 23,
   "metadata": {},
   "outputs": [
    {
     "name": "stdout",
     "output_type": "stream",
     "text": [
      "{'data_asset_type': None,\n",
      " 'expectation_suite_name': 'ccf_detection_suite',\n",
      " 'expectations': [{'expectation_type': 'expect_table_columns_to_match_ordered_list',\n",
      "                   'kwargs': {'column_list': ['TRANSACTION_ID',\n",
      "                                              'TX_DATETIME',\n",
      "                                              'CUSTOMER_ID',\n",
      "                                              'TERMINAL_ID',\n",
      "                                              'TX_AMOUNT',\n",
      "                                              'TX_TIME_SECONDS',\n",
      "                                              'TX_TIME_DAYS',\n",
      "                                              'TX_FRAUD',\n",
      "                                              'TX_FRAUD_SCENARIO']},\n",
      "                   'meta': {}},\n",
      "                  {'expectation_type': 'expect_table_row_count_to_be_between',\n",
      "                   'kwargs': {'max_value': 9488, 'min_value': 9488},\n",
      "                   'meta': {}},\n",
      "                  {'expectation_type': 'expect_column_min_to_be_between',\n",
      "                   'kwargs': {'column': 'TRANSACTION_ID',\n",
      "                              'max_value': 0,\n",
      "                              'min_value': 0},\n",
      "                   'meta': {}},\n",
      "                  {'expectation_type': 'expect_column_max_to_be_between',\n",
      "                   'kwargs': {'column': 'TRANSACTION_ID',\n",
      "                              'max_value': 9487,\n",
      "                              'min_value': 9487},\n",
      "                   'meta': {}},\n",
      "                  {'expectation_type': 'expect_column_mean_to_be_between',\n",
      "                   'kwargs': {'column': 'TRANSACTION_ID',\n",
      "                              'max_value': 4743.5,\n",
      "                              'min_value': 4743.5},\n",
      "                   'meta': {}},\n",
      "                  {'expectation_type': 'expect_column_median_to_be_between',\n",
      "                   'kwargs': {'column': 'TRANSACTION_ID',\n",
      "                              'max_value': 4743.5,\n",
      "                              'min_value': 4743.5},\n",
      "                   'meta': {}},\n",
      "                  {'expectation_type': 'expect_column_quantile_values_to_be_between',\n",
      "                   'kwargs': {'allow_relative_error': 'lower',\n",
      "                              'column': 'TRANSACTION_ID',\n",
      "                              'quantile_ranges': {'quantiles': [0.05,\n",
      "                                                                0.25,\n",
      "                                                                0.5,\n",
      "                                                                0.75,\n",
      "                                                                0.95],\n",
      "                                                  'value_ranges': [[474, 474],\n",
      "                                                                   [2371, 2371],\n",
      "                                                                   [4743, 4743],\n",
      "                                                                   [7115, 7115],\n",
      "                                                                   [9012,\n",
      "                                                                    9012]]}},\n",
      "                   'meta': {}},\n",
      "                  {'expectation_type': 'expect_column_values_to_not_be_null',\n",
      "                   'kwargs': {'column': 'TRANSACTION_ID'},\n",
      "                   'meta': {}},\n",
      "                  {'expectation_type': 'expect_column_proportion_of_unique_values_to_be_between',\n",
      "                   'kwargs': {'column': 'TRANSACTION_ID',\n",
      "                              'max_value': 1.0,\n",
      "                              'min_value': 1.0},\n",
      "                   'meta': {}},\n",
      "                  {'expectation_type': 'expect_column_values_to_be_in_type_list',\n",
      "                   'kwargs': {'column': 'TRANSACTION_ID',\n",
      "                              'type_list': ['BIGINT',\n",
      "                                            'BYTEINT',\n",
      "                                            'ByteType()',\n",
      "                                            'INT',\n",
      "                                            'INT64',\n",
      "                                            'INTEGER',\n",
      "                                            'Int16Dtype',\n",
      "                                            'Int32Dtype',\n",
      "                                            'Int64Dtype',\n",
      "                                            'Int8Dtype',\n",
      "                                            'IntegerType',\n",
      "                                            'IntegerType()',\n",
      "                                            'LongType',\n",
      "                                            'LongType()',\n",
      "                                            'SMALLINT',\n",
      "                                            'ShortType()',\n",
      "                                            'TINYINT',\n",
      "                                            'UInt16Dtype',\n",
      "                                            'UInt32Dtype',\n",
      "                                            'UInt64Dtype',\n",
      "                                            'UInt8Dtype',\n",
      "                                            'int',\n",
      "                                            'int16',\n",
      "                                            'int32',\n",
      "                                            'int64',\n",
      "                                            'int8',\n",
      "                                            'int_',\n",
      "                                            'integer',\n",
      "                                            'uint16',\n",
      "                                            'uint32',\n",
      "                                            'uint64',\n",
      "                                            'uint8',\n",
      "                                            'Uint8',\n",
      "                                            'Uint16',\n",
      "                                            'Uint32',\n",
      "                                            'Uint64',\n",
      "                                            'Uint128',\n",
      "                                            'Uint256',\n",
      "                                            'Int8',\n",
      "                                            'Int16',\n",
      "                                            'Int32',\n",
      "                                            'Int64',\n",
      "                                            'Int128',\n",
      "                                            'Int256']},\n",
      "                   'meta': {}},\n",
      "                  {'expectation_type': 'expect_column_values_to_be_between',\n",
      "                   'kwargs': {'column': 'TX_DATETIME',\n",
      "                              'max_value': '2018-04-01 23:59:51',\n",
      "                              'min_value': '2018-04-01 00:00:31',\n",
      "                              'parse_strings_as_datetimes': False},\n",
      "                   'meta': {}},\n",
      "                  {'expectation_type': 'expect_column_values_to_not_be_null',\n",
      "                   'kwargs': {'column': 'TX_DATETIME'},\n",
      "                   'meta': {}},\n",
      "                  {'expectation_type': 'expect_column_proportion_of_unique_values_to_be_between',\n",
      "                   'kwargs': {'column': 'TX_DATETIME',\n",
      "                              'max_value': 0.9353920741989882,\n",
      "                              'min_value': 0.9353920741989882},\n",
      "                   'meta': {}},\n",
      "                  {'expectation_type': 'expect_column_values_to_be_in_type_list',\n",
      "                   'kwargs': {'column': 'TX_DATETIME',\n",
      "                              'type_list': ['DATE',\n",
      "                                            'TIME',\n",
      "                                            'DATETIME',\n",
      "                                            'DATETIME2',\n",
      "                                            'DATETIME64',\n",
      "                                            'SMALLDATETIME',\n",
      "                                            'DATETIMEOFFSET',\n",
      "                                            'TIMESTAMP',\n",
      "                                            'Timestamp',\n",
      "                                            'TimestampType',\n",
      "                                            'TimestampType()',\n",
      "                                            'DateType',\n",
      "                                            'DateType()',\n",
      "                                            'datetime64',\n",
      "                                            'datetime64[ns]',\n",
      "                                            'timedelta[ns]',\n",
      "                                            '<M8[ns]',\n",
      "                                            'Date',\n",
      "                                            'Date32',\n",
      "                                            'DateTime',\n",
      "                                            'DateTime64']},\n",
      "                   'meta': {}},\n",
      "                  {'expectation_type': 'expect_column_min_to_be_between',\n",
      "                   'kwargs': {'column': 'CUSTOMER_ID',\n",
      "                              'max_value': 0,\n",
      "                              'min_value': 0},\n",
      "                   'meta': {}},\n",
      "                  {'expectation_type': 'expect_column_max_to_be_between',\n",
      "                   'kwargs': {'column': 'CUSTOMER_ID',\n",
      "                              'max_value': 4999,\n",
      "                              'min_value': 4999},\n",
      "                   'meta': {}},\n",
      "                  {'expectation_type': 'expect_column_mean_to_be_between',\n",
      "                   'kwargs': {'column': 'CUSTOMER_ID',\n",
      "                              'max_value': 2504.738301011804,\n",
      "                              'min_value': 2504.738301011804},\n",
      "                   'meta': {}},\n",
      "                  {'expectation_type': 'expect_column_median_to_be_between',\n",
      "                   'kwargs': {'column': 'CUSTOMER_ID',\n",
      "                              'max_value': 2511.5,\n",
      "                              'min_value': 2511.5},\n",
      "                   'meta': {}},\n",
      "                  {'expectation_type': 'expect_column_quantile_values_to_be_between',\n",
      "                   'kwargs': {'allow_relative_error': 'lower',\n",
      "                              'column': 'CUSTOMER_ID',\n",
      "                              'quantile_ranges': {'quantiles': [0.05,\n",
      "                                                                0.25,\n",
      "                                                                0.5,\n",
      "                                                                0.75,\n",
      "                                                                0.95],\n",
      "                                                  'value_ranges': [[249, 249],\n",
      "                                                                   [1219, 1219],\n",
      "                                                                   [2511, 2511],\n",
      "                                                                   [3774, 3774],\n",
      "                                                                   [4748,\n",
      "                                                                    4748]]}},\n",
      "                   'meta': {}},\n",
      "                  {'expectation_type': 'expect_column_values_to_not_be_null',\n",
      "                   'kwargs': {'column': 'CUSTOMER_ID'},\n",
      "                   'meta': {}},\n",
      "                  {'expectation_type': 'expect_column_proportion_of_unique_values_to_be_between',\n",
      "                   'kwargs': {'column': 'CUSTOMER_ID',\n",
      "                              'max_value': 0.3874367622259696,\n",
      "                              'min_value': 0.3874367622259696},\n",
      "                   'meta': {}},\n",
      "                  {'expectation_type': 'expect_column_values_to_be_in_type_list',\n",
      "                   'kwargs': {'column': 'CUSTOMER_ID',\n",
      "                              'type_list': ['BIGINT',\n",
      "                                            'BYTEINT',\n",
      "                                            'ByteType()',\n",
      "                                            'INT',\n",
      "                                            'INT64',\n",
      "                                            'INTEGER',\n",
      "                                            'Int16Dtype',\n",
      "                                            'Int32Dtype',\n",
      "                                            'Int64Dtype',\n",
      "                                            'Int8Dtype',\n",
      "                                            'IntegerType',\n",
      "                                            'IntegerType()',\n",
      "                                            'LongType',\n",
      "                                            'LongType()',\n",
      "                                            'SMALLINT',\n",
      "                                            'ShortType()',\n",
      "                                            'TINYINT',\n",
      "                                            'UInt16Dtype',\n",
      "                                            'UInt32Dtype',\n",
      "                                            'UInt64Dtype',\n",
      "                                            'UInt8Dtype',\n",
      "                                            'int',\n",
      "                                            'int16',\n",
      "                                            'int32',\n",
      "                                            'int64',\n",
      "                                            'int8',\n",
      "                                            'int_',\n",
      "                                            'integer',\n",
      "                                            'uint16',\n",
      "                                            'uint32',\n",
      "                                            'uint64',\n",
      "                                            'uint8',\n",
      "                                            'Uint8',\n",
      "                                            'Uint16',\n",
      "                                            'Uint32',\n",
      "                                            'Uint64',\n",
      "                                            'Uint128',\n",
      "                                            'Uint256',\n",
      "                                            'Int8',\n",
      "                                            'Int16',\n",
      "                                            'Int32',\n",
      "                                            'Int64',\n",
      "                                            'Int128',\n",
      "                                            'Int256']},\n",
      "                   'meta': {}},\n",
      "                  {'expectation_type': 'expect_column_min_to_be_between',\n",
      "                   'kwargs': {'column': 'TERMINAL_ID',\n",
      "                              'max_value': 1,\n",
      "                              'min_value': 1},\n",
      "                   'meta': {}},\n",
      "                  {'expectation_type': 'expect_column_max_to_be_between',\n",
      "                   'kwargs': {'column': 'TERMINAL_ID',\n",
      "                              'max_value': 9999,\n",
      "                              'min_value': 9999},\n",
      "                   'meta': {}},\n",
      "                  {'expectation_type': 'expect_column_mean_to_be_between',\n",
      "                   'kwargs': {'column': 'TERMINAL_ID',\n",
      "                              'max_value': 5008.498102866779,\n",
      "                              'min_value': 5008.498102866779},\n",
      "                   'meta': {}},\n",
      "                  {'expectation_type': 'expect_column_median_to_be_between',\n",
      "                   'kwargs': {'column': 'TERMINAL_ID',\n",
      "                              'max_value': 5012.5,\n",
      "                              'min_value': 5012.5},\n",
      "                   'meta': {}},\n",
      "                  {'expectation_type': 'expect_column_quantile_values_to_be_between',\n",
      "                   'kwargs': {'allow_relative_error': 'lower',\n",
      "                              'column': 'TERMINAL_ID',\n",
      "                              'quantile_ranges': {'quantiles': [0.05,\n",
      "                                                                0.25,\n",
      "                                                                0.5,\n",
      "                                                                0.75,\n",
      "                                                                0.95],\n",
      "                                                  'value_ranges': [[507, 507],\n",
      "                                                                   [2466, 2466],\n",
      "                                                                   [5012, 5012],\n",
      "                                                                   [7556, 7556],\n",
      "                                                                   [9523,\n",
      "                                                                    9523]]}},\n",
      "                   'meta': {}},\n",
      "                  {'expectation_type': 'expect_column_values_to_not_be_null',\n",
      "                   'kwargs': {'column': 'TERMINAL_ID'},\n",
      "                   'meta': {}},\n",
      "                  {'expectation_type': 'expect_column_proportion_of_unique_values_to_be_between',\n",
      "                   'kwargs': {'column': 'TERMINAL_ID',\n",
      "                              'max_value': 0.6353288364249579,\n",
      "                              'min_value': 0.6353288364249579},\n",
      "                   'meta': {}},\n",
      "                  {'expectation_type': 'expect_column_values_to_be_in_type_list',\n",
      "                   'kwargs': {'column': 'TERMINAL_ID',\n",
      "                              'type_list': ['BIGINT',\n",
      "                                            'BYTEINT',\n",
      "                                            'ByteType()',\n",
      "                                            'INT',\n",
      "                                            'INT64',\n",
      "                                            'INTEGER',\n",
      "                                            'Int16Dtype',\n",
      "                                            'Int32Dtype',\n",
      "                                            'Int64Dtype',\n",
      "                                            'Int8Dtype',\n",
      "                                            'IntegerType',\n",
      "                                            'IntegerType()',\n",
      "                                            'LongType',\n",
      "                                            'LongType()',\n",
      "                                            'SMALLINT',\n",
      "                                            'ShortType()',\n",
      "                                            'TINYINT',\n",
      "                                            'UInt16Dtype',\n",
      "                                            'UInt32Dtype',\n",
      "                                            'UInt64Dtype',\n",
      "                                            'UInt8Dtype',\n",
      "                                            'int',\n",
      "                                            'int16',\n",
      "                                            'int32',\n",
      "                                            'int64',\n",
      "                                            'int8',\n",
      "                                            'int_',\n",
      "                                            'integer',\n",
      "                                            'uint16',\n",
      "                                            'uint32',\n",
      "                                            'uint64',\n",
      "                                            'uint8',\n",
      "                                            'Uint8',\n",
      "                                            'Uint16',\n",
      "                                            'Uint32',\n",
      "                                            'Uint64',\n",
      "                                            'Uint128',\n",
      "                                            'Uint256',\n",
      "                                            'Int8',\n",
      "                                            'Int16',\n",
      "                                            'Int32',\n",
      "                                            'Int64',\n",
      "                                            'Int128',\n",
      "                                            'Int256']},\n",
      "                   'meta': {}},\n",
      "                  {'expectation_type': 'expect_column_min_to_be_between',\n",
      "                   'kwargs': {'column': 'TX_AMOUNT',\n",
      "                              'max_value': 0.13,\n",
      "                              'min_value': 0.13},\n",
      "                   'meta': {}},\n",
      "                  {'expectation_type': 'expect_column_max_to_be_between',\n",
      "                   'kwargs': {'column': 'TX_AMOUNT',\n",
      "                              'max_value': 226.4,\n",
      "                              'min_value': 226.4},\n",
      "                   'meta': {}},\n",
      "                  {'expectation_type': 'expect_column_mean_to_be_between',\n",
      "                   'kwargs': {'column': 'TX_AMOUNT',\n",
      "                              'max_value': 53.24998102866779,\n",
      "                              'min_value': 53.24998102866779},\n",
      "                   'meta': {}},\n",
      "                  {'expectation_type': 'expect_column_median_to_be_between',\n",
      "                   'kwargs': {'column': 'TX_AMOUNT',\n",
      "                              'max_value': 45.59,\n",
      "                              'min_value': 45.59},\n",
      "                   'meta': {}},\n",
      "                  {'expectation_type': 'expect_column_quantile_values_to_be_between',\n",
      "                   'kwargs': {'allow_relative_error': 'lower',\n",
      "                              'column': 'TX_AMOUNT',\n",
      "                              'quantile_ranges': {'quantiles': [0.05,\n",
      "                                                                0.25,\n",
      "                                                                0.5,\n",
      "                                                                0.75,\n",
      "                                                                0.95],\n",
      "                                                  'value_ranges': [[5.68, 5.68],\n",
      "                                                                   [21.19,\n",
      "                                                                    21.19],\n",
      "                                                                   [45.59,\n",
      "                                                                    45.59],\n",
      "                                                                   [76.93,\n",
      "                                                                    76.93],\n",
      "                                                                   [130.05,\n",
      "                                                                    130.05]]}},\n",
      "                   'meta': {}},\n",
      "                  {'expectation_type': 'expect_column_values_to_not_be_null',\n",
      "                   'kwargs': {'column': 'TX_AMOUNT'},\n",
      "                   'meta': {}},\n",
      "                  {'expectation_type': 'expect_column_proportion_of_unique_values_to_be_between',\n",
      "                   'kwargs': {'column': 'TX_AMOUNT',\n",
      "                              'max_value': 0.6960370994940978,\n",
      "                              'min_value': 0.6960370994940978},\n",
      "                   'meta': {}},\n",
      "                  {'expectation_type': 'expect_column_values_to_be_in_type_list',\n",
      "                   'kwargs': {'column': 'TX_AMOUNT',\n",
      "                              'type_list': ['DECIMAL',\n",
      "                                            'DOUBLE',\n",
      "                                            'DOUBLE_PRECISION',\n",
      "                                            'DecimalType()',\n",
      "                                            'DoubleType',\n",
      "                                            'DoubleType()',\n",
      "                                            'FLOAT',\n",
      "                                            'FLOAT4',\n",
      "                                            'FLOAT64',\n",
      "                                            'FLOAT8',\n",
      "                                            'FloatType',\n",
      "                                            'FloatType()',\n",
      "                                            'NUMERIC',\n",
      "                                            'REAL',\n",
      "                                            'float',\n",
      "                                            'float16',\n",
      "                                            'float32',\n",
      "                                            'float64',\n",
      "                                            'float_',\n",
      "                                            'number',\n",
      "                                            'Float32',\n",
      "                                            'Float64']},\n",
      "                   'meta': {}},\n",
      "                  {'expectation_type': 'expect_column_min_to_be_between',\n",
      "                   'kwargs': {'column': 'TX_TIME_SECONDS',\n",
      "                              'max_value': 31,\n",
      "                              'min_value': 31},\n",
      "                   'meta': {}},\n",
      "                  {'expectation_type': 'expect_column_max_to_be_between',\n",
      "                   'kwargs': {'column': 'TX_TIME_SECONDS',\n",
      "                              'max_value': 86391,\n",
      "                              'min_value': 86391},\n",
      "                   'meta': {}},\n",
      "                  {'expectation_type': 'expect_column_mean_to_be_between',\n",
      "                   'kwargs': {'column': 'TX_TIME_SECONDS',\n",
      "                              'max_value': 43291.7436762226,\n",
      "                              'min_value': 43291.7436762226},\n",
      "                   'meta': {}},\n",
      "                  {'expectation_type': 'expect_column_median_to_be_between',\n",
      "                   'kwargs': {'column': 'TX_TIME_SECONDS',\n",
      "                              'max_value': 43224.0,\n",
      "                              'min_value': 43224.0},\n",
      "                   'meta': {}},\n",
      "                  {'expectation_type': 'expect_column_quantile_values_to_be_between',\n",
      "                   'kwargs': {'allow_relative_error': 'lower',\n",
      "                              'column': 'TX_TIME_SECONDS',\n",
      "                              'quantile_ranges': {'quantiles': [0.05,\n",
      "                                                                0.25,\n",
      "                                                                0.5,\n",
      "                                                                0.75,\n",
      "                                                                0.95],\n",
      "                                                  'value_ranges': [[12921,\n",
      "                                                                    12921],\n",
      "                                                                   [30317,\n",
      "                                                                    30317],\n",
      "                                                                   [43220,\n",
      "                                                                    43220],\n",
      "                                                                   [56277,\n",
      "                                                                    56277],\n",
      "                                                                   [73019,\n",
      "                                                                    73019]]}},\n",
      "                   'meta': {}},\n",
      "                  {'expectation_type': 'expect_column_values_to_not_be_null',\n",
      "                   'kwargs': {'column': 'TX_TIME_SECONDS'},\n",
      "                   'meta': {}},\n",
      "                  {'expectation_type': 'expect_column_proportion_of_unique_values_to_be_between',\n",
      "                   'kwargs': {'column': 'TX_TIME_SECONDS',\n",
      "                              'max_value': 0.9353920741989882,\n",
      "                              'min_value': 0.9353920741989882},\n",
      "                   'meta': {}},\n",
      "                  {'expectation_type': 'expect_column_values_to_be_in_type_list',\n",
      "                   'kwargs': {'column': 'TX_TIME_SECONDS',\n",
      "                              'type_list': ['BIGINT',\n",
      "                                            'BYTEINT',\n",
      "                                            'ByteType()',\n",
      "                                            'INT',\n",
      "                                            'INT64',\n",
      "                                            'INTEGER',\n",
      "                                            'Int16Dtype',\n",
      "                                            'Int32Dtype',\n",
      "                                            'Int64Dtype',\n",
      "                                            'Int8Dtype',\n",
      "                                            'IntegerType',\n",
      "                                            'IntegerType()',\n",
      "                                            'LongType',\n",
      "                                            'LongType()',\n",
      "                                            'SMALLINT',\n",
      "                                            'ShortType()',\n",
      "                                            'TINYINT',\n",
      "                                            'UInt16Dtype',\n",
      "                                            'UInt32Dtype',\n",
      "                                            'UInt64Dtype',\n",
      "                                            'UInt8Dtype',\n",
      "                                            'int',\n",
      "                                            'int16',\n",
      "                                            'int32',\n",
      "                                            'int64',\n",
      "                                            'int8',\n",
      "                                            'int_',\n",
      "                                            'integer',\n",
      "                                            'uint16',\n",
      "                                            'uint32',\n",
      "                                            'uint64',\n",
      "                                            'uint8',\n",
      "                                            'Uint8',\n",
      "                                            'Uint16',\n",
      "                                            'Uint32',\n",
      "                                            'Uint64',\n",
      "                                            'Uint128',\n",
      "                                            'Uint256',\n",
      "                                            'Int8',\n",
      "                                            'Int16',\n",
      "                                            'Int32',\n",
      "                                            'Int64',\n",
      "                                            'Int128',\n",
      "                                            'Int256']},\n",
      "                   'meta': {}},\n",
      "                  {'expectation_type': 'expect_column_min_to_be_between',\n",
      "                   'kwargs': {'column': 'TX_TIME_DAYS',\n",
      "                              'max_value': 0,\n",
      "                              'min_value': 0},\n",
      "                   'meta': {}},\n",
      "                  {'expectation_type': 'expect_column_max_to_be_between',\n",
      "                   'kwargs': {'column': 'TX_TIME_DAYS',\n",
      "                              'max_value': 0,\n",
      "                              'min_value': 0},\n",
      "                   'meta': {}},\n",
      "                  {'expectation_type': 'expect_column_mean_to_be_between',\n",
      "                   'kwargs': {'column': 'TX_TIME_DAYS',\n",
      "                              'max_value': 0.0,\n",
      "                              'min_value': 0.0},\n",
      "                   'meta': {}},\n",
      "                  {'expectation_type': 'expect_column_median_to_be_between',\n",
      "                   'kwargs': {'column': 'TX_TIME_DAYS',\n",
      "                              'max_value': 0.0,\n",
      "                              'min_value': 0.0},\n",
      "                   'meta': {}},\n",
      "                  {'expectation_type': 'expect_column_quantile_values_to_be_between',\n",
      "                   'kwargs': {'allow_relative_error': 'lower',\n",
      "                              'column': 'TX_TIME_DAYS',\n",
      "                              'quantile_ranges': {'quantiles': [0.05,\n",
      "                                                                0.25,\n",
      "                                                                0.5,\n",
      "                                                                0.75,\n",
      "                                                                0.95],\n",
      "                                                  'value_ranges': [[0, 0],\n",
      "                                                                   [0, 0],\n",
      "                                                                   [0, 0],\n",
      "                                                                   [0, 0],\n",
      "                                                                   [0, 0]]}},\n",
      "                   'meta': {}},\n",
      "                  {'expectation_type': 'expect_column_values_to_be_in_set',\n",
      "                   'kwargs': {'column': 'TX_TIME_DAYS', 'value_set': [0]},\n",
      "                   'meta': {}},\n",
      "                  {'expectation_type': 'expect_column_values_to_not_be_null',\n",
      "                   'kwargs': {'column': 'TX_TIME_DAYS'},\n",
      "                   'meta': {}},\n",
      "                  {'expectation_type': 'expect_column_proportion_of_unique_values_to_be_between',\n",
      "                   'kwargs': {'column': 'TX_TIME_DAYS',\n",
      "                              'max_value': 0.00010539629005059021,\n",
      "                              'min_value': 0.00010539629005059021},\n",
      "                   'meta': {}},\n",
      "                  {'expectation_type': 'expect_column_values_to_be_in_type_list',\n",
      "                   'kwargs': {'column': 'TX_TIME_DAYS',\n",
      "                              'type_list': ['BIGINT',\n",
      "                                            'BYTEINT',\n",
      "                                            'ByteType()',\n",
      "                                            'INT',\n",
      "                                            'INT64',\n",
      "                                            'INTEGER',\n",
      "                                            'Int16Dtype',\n",
      "                                            'Int32Dtype',\n",
      "                                            'Int64Dtype',\n",
      "                                            'Int8Dtype',\n",
      "                                            'IntegerType',\n",
      "                                            'IntegerType()',\n",
      "                                            'LongType',\n",
      "                                            'LongType()',\n",
      "                                            'SMALLINT',\n",
      "                                            'ShortType()',\n",
      "                                            'TINYINT',\n",
      "                                            'UInt16Dtype',\n",
      "                                            'UInt32Dtype',\n",
      "                                            'UInt64Dtype',\n",
      "                                            'UInt8Dtype',\n",
      "                                            'int',\n",
      "                                            'int16',\n",
      "                                            'int32',\n",
      "                                            'int64',\n",
      "                                            'int8',\n",
      "                                            'int_',\n",
      "                                            'integer',\n",
      "                                            'uint16',\n",
      "                                            'uint32',\n",
      "                                            'uint64',\n",
      "                                            'uint8',\n",
      "                                            'Uint8',\n",
      "                                            'Uint16',\n",
      "                                            'Uint32',\n",
      "                                            'Uint64',\n",
      "                                            'Uint128',\n",
      "                                            'Uint256',\n",
      "                                            'Int8',\n",
      "                                            'Int16',\n",
      "                                            'Int32',\n",
      "                                            'Int64',\n",
      "                                            'Int128',\n",
      "                                            'Int256']},\n",
      "                   'meta': {}},\n",
      "                  {'expectation_type': 'expect_column_min_to_be_between',\n",
      "                   'kwargs': {'column': 'TX_FRAUD',\n",
      "                              'max_value': 0,\n",
      "                              'min_value': 0},\n",
      "                   'meta': {}},\n",
      "                  {'expectation_type': 'expect_column_max_to_be_between',\n",
      "                   'kwargs': {'column': 'TX_FRAUD',\n",
      "                              'max_value': 1,\n",
      "                              'min_value': 1},\n",
      "                   'meta': {}},\n",
      "                  {'expectation_type': 'expect_column_mean_to_be_between',\n",
      "                   'kwargs': {'column': 'TX_FRAUD',\n",
      "                              'max_value': 0.00031618887015177064,\n",
      "                              'min_value': 0.00031618887015177064},\n",
      "                   'meta': {}},\n",
      "                  {'expectation_type': 'expect_column_median_to_be_between',\n",
      "                   'kwargs': {'column': 'TX_FRAUD',\n",
      "                              'max_value': 0.0,\n",
      "                              'min_value': 0.0},\n",
      "                   'meta': {}},\n",
      "                  {'expectation_type': 'expect_column_quantile_values_to_be_between',\n",
      "                   'kwargs': {'allow_relative_error': 'lower',\n",
      "                              'column': 'TX_FRAUD',\n",
      "                              'quantile_ranges': {'quantiles': [0.05,\n",
      "                                                                0.25,\n",
      "                                                                0.5,\n",
      "                                                                0.75,\n",
      "                                                                0.95],\n",
      "                                                  'value_ranges': [[0, 0],\n",
      "                                                                   [0, 0],\n",
      "                                                                   [0, 0],\n",
      "                                                                   [0, 0],\n",
      "                                                                   [0, 0]]}},\n",
      "                   'meta': {}},\n",
      "                  {'expectation_type': 'expect_column_values_to_be_in_set',\n",
      "                   'kwargs': {'column': 'TX_FRAUD', 'value_set': [0, 1]},\n",
      "                   'meta': {}},\n",
      "                  {'expectation_type': 'expect_column_values_to_not_be_null',\n",
      "                   'kwargs': {'column': 'TX_FRAUD'},\n",
      "                   'meta': {}},\n",
      "                  {'expectation_type': 'expect_column_proportion_of_unique_values_to_be_between',\n",
      "                   'kwargs': {'column': 'TX_FRAUD',\n",
      "                              'max_value': 0.00021079258010118043,\n",
      "                              'min_value': 0.00021079258010118043},\n",
      "                   'meta': {}},\n",
      "                  {'expectation_type': 'expect_column_values_to_be_in_type_list',\n",
      "                   'kwargs': {'column': 'TX_FRAUD',\n",
      "                              'type_list': ['BIGINT',\n",
      "                                            'BYTEINT',\n",
      "                                            'ByteType()',\n",
      "                                            'INT',\n",
      "                                            'INT64',\n",
      "                                            'INTEGER',\n",
      "                                            'Int16Dtype',\n",
      "                                            'Int32Dtype',\n",
      "                                            'Int64Dtype',\n",
      "                                            'Int8Dtype',\n",
      "                                            'IntegerType',\n",
      "                                            'IntegerType()',\n",
      "                                            'LongType',\n",
      "                                            'LongType()',\n",
      "                                            'SMALLINT',\n",
      "                                            'ShortType()',\n",
      "                                            'TINYINT',\n",
      "                                            'UInt16Dtype',\n",
      "                                            'UInt32Dtype',\n",
      "                                            'UInt64Dtype',\n",
      "                                            'UInt8Dtype',\n",
      "                                            'int',\n",
      "                                            'int16',\n",
      "                                            'int32',\n",
      "                                            'int64',\n",
      "                                            'int8',\n",
      "                                            'int_',\n",
      "                                            'integer',\n",
      "                                            'uint16',\n",
      "                                            'uint32',\n",
      "                                            'uint64',\n",
      "                                            'uint8',\n",
      "                                            'Uint8',\n",
      "                                            'Uint16',\n",
      "                                            'Uint32',\n",
      "                                            'Uint64',\n",
      "                                            'Uint128',\n",
      "                                            'Uint256',\n",
      "                                            'Int8',\n",
      "                                            'Int16',\n",
      "                                            'Int32',\n",
      "                                            'Int64',\n",
      "                                            'Int128',\n",
      "                                            'Int256']},\n",
      "                   'meta': {}},\n",
      "                  {'expectation_type': 'expect_column_min_to_be_between',\n",
      "                   'kwargs': {'column': 'TX_FRAUD_SCENARIO',\n",
      "                              'max_value': 0,\n",
      "                              'min_value': 0},\n",
      "                   'meta': {}},\n",
      "                  {'expectation_type': 'expect_column_max_to_be_between',\n",
      "                   'kwargs': {'column': 'TX_FRAUD_SCENARIO',\n",
      "                              'max_value': 1,\n",
      "                              'min_value': 1},\n",
      "                   'meta': {}},\n",
      "                  {'expectation_type': 'expect_column_mean_to_be_between',\n",
      "                   'kwargs': {'column': 'TX_FRAUD_SCENARIO',\n",
      "                              'max_value': 0.00031618887015177064,\n",
      "                              'min_value': 0.00031618887015177064},\n",
      "                   'meta': {}},\n",
      "                  {'expectation_type': 'expect_column_median_to_be_between',\n",
      "                   'kwargs': {'column': 'TX_FRAUD_SCENARIO',\n",
      "                              'max_value': 0.0,\n",
      "                              'min_value': 0.0},\n",
      "                   'meta': {}},\n",
      "                  {'expectation_type': 'expect_column_quantile_values_to_be_between',\n",
      "                   'kwargs': {'allow_relative_error': 'lower',\n",
      "                              'column': 'TX_FRAUD_SCENARIO',\n",
      "                              'quantile_ranges': {'quantiles': [0.05,\n",
      "                                                                0.25,\n",
      "                                                                0.5,\n",
      "                                                                0.75,\n",
      "                                                                0.95],\n",
      "                                                  'value_ranges': [[0, 0],\n",
      "                                                                   [0, 0],\n",
      "                                                                   [0, 0],\n",
      "                                                                   [0, 0],\n",
      "                                                                   [0, 0]]}},\n",
      "                   'meta': {}},\n",
      "                  {'expectation_type': 'expect_column_values_to_be_in_set',\n",
      "                   'kwargs': {'column': 'TX_FRAUD_SCENARIO',\n",
      "                              'value_set': [0, 1]},\n",
      "                   'meta': {}},\n",
      "                  {'expectation_type': 'expect_column_values_to_not_be_null',\n",
      "                   'kwargs': {'column': 'TX_FRAUD_SCENARIO'},\n",
      "                   'meta': {}},\n",
      "                  {'expectation_type': 'expect_column_proportion_of_unique_values_to_be_between',\n",
      "                   'kwargs': {'column': 'TX_FRAUD_SCENARIO',\n",
      "                              'max_value': 0.00021079258010118043,\n",
      "                              'min_value': 0.00021079258010118043},\n",
      "                   'meta': {}},\n",
      "                  {'expectation_type': 'expect_column_values_to_be_in_type_list',\n",
      "                   'kwargs': {'column': 'TX_FRAUD_SCENARIO',\n",
      "                              'type_list': ['BIGINT',\n",
      "                                            'BYTEINT',\n",
      "                                            'ByteType()',\n",
      "                                            'INT',\n",
      "                                            'INT64',\n",
      "                                            'INTEGER',\n",
      "                                            'Int16Dtype',\n",
      "                                            'Int32Dtype',\n",
      "                                            'Int64Dtype',\n",
      "                                            'Int8Dtype',\n",
      "                                            'IntegerType',\n",
      "                                            'IntegerType()',\n",
      "                                            'LongType',\n",
      "                                            'LongType()',\n",
      "                                            'SMALLINT',\n",
      "                                            'ShortType()',\n",
      "                                            'TINYINT',\n",
      "                                            'UInt16Dtype',\n",
      "                                            'UInt32Dtype',\n",
      "                                            'UInt64Dtype',\n",
      "                                            'UInt8Dtype',\n",
      "                                            'int',\n",
      "                                            'int16',\n",
      "                                            'int32',\n",
      "                                            'int64',\n",
      "                                            'int8',\n",
      "                                            'int_',\n",
      "                                            'integer',\n",
      "                                            'uint16',\n",
      "                                            'uint32',\n",
      "                                            'uint64',\n",
      "                                            'uint8',\n",
      "                                            'Uint8',\n",
      "                                            'Uint16',\n",
      "                                            'Uint32',\n",
      "                                            'Uint64',\n",
      "                                            'Uint128',\n",
      "                                            'Uint256',\n",
      "                                            'Int8',\n",
      "                                            'Int16',\n",
      "                                            'Int32',\n",
      "                                            'Int64',\n",
      "                                            'Int128',\n",
      "                                            'Int256']},\n",
      "                   'meta': {}}],\n",
      " 'ge_cloud_id': None,\n",
      " 'meta': {'great_expectations_version': '0.18.19'}}\n"
     ]
    }
   ],
   "source": [
    "## View the suite before saving\n",
    "import pprint\n",
    "suite = validator.get_expectation_suite()\n",
    "pprint.pprint(suite.to_json_dict())"
   ]
  },
  {
   "cell_type": "code",
   "execution_count": 25,
   "metadata": {},
   "outputs": [
    {
     "data": {
      "text/plain": [
       "'expectations/ccf_detection_suite.json'"
      ]
     },
     "execution_count": 25,
     "metadata": {},
     "output_type": "execute_result"
    }
   ],
   "source": [
    "# Save the generated Expectation Suite\n",
    "context.save_expectation_suite(expectation_suite=suite, expectation_suite_name=\"ccf_detection_suite\")\n"
   ]
  },
  {
   "cell_type": "code",
   "execution_count": 26,
   "metadata": {},
   "outputs": [
    {
     "data": {
      "text/plain": [
       "{'s3_site': 'http://localhost:8000/great-expectation-stores/data-docs/index.html'}"
      ]
     },
     "execution_count": 26,
     "metadata": {},
     "output_type": "execute_result"
    }
   ],
   "source": [
    "context.build_data_docs()\n"
   ]
  },
  {
   "cell_type": "markdown",
   "metadata": {},
   "source": [
    "#### Validate unvcalidated data with GX"
   ]
  },
  {
   "cell_type": "code",
   "execution_count": 31,
   "metadata": {},
   "outputs": [
    {
     "ename": "TypeError",
     "evalue": "key must be an instance of ValidationMetricIdentifier, not <class 'str'>",
     "output_type": "error",
     "traceback": [
      "\u001b[0;31m---------------------------------------------------------------------------\u001b[0m",
      "\u001b[0;31mTypeError\u001b[0m                                 Traceback (most recent call last)",
      "Cell \u001b[0;32mIn[31], line 1\u001b[0m\n\u001b[0;32m----> 1\u001b[0m validation_results \u001b[38;5;241m=\u001b[39m validator\u001b[38;5;241m.\u001b[39mvalidate()\n\u001b[1;32m      3\u001b[0m \u001b[38;5;28mprint\u001b[39m(validation_results)\n",
      "File \u001b[0;32m~/anaconda3/lib/python3.11/site-packages/great_expectations/validator/validator.py:1626\u001b[0m, in \u001b[0;36mValidator.validate\u001b[0;34m(self, expectation_suite, run_id, data_context, evaluation_parameters, catch_exceptions, result_format, only_return_failures, run_name, run_time, checkpoint_name)\u001b[0m\n\u001b[1;32m   1618\u001b[0m \u001b[38;5;66;03m# Evaluation parameter priority is\u001b[39;00m\n\u001b[1;32m   1619\u001b[0m \u001b[38;5;66;03m# 1. from provided parameters\u001b[39;00m\n\u001b[1;32m   1620\u001b[0m \u001b[38;5;66;03m# 2. from expectation configuration\u001b[39;00m\n\u001b[1;32m   1621\u001b[0m \u001b[38;5;66;03m# 3. from data context\u001b[39;00m\n\u001b[1;32m   1622\u001b[0m \u001b[38;5;66;03m# So, we load them in reverse order\u001b[39;00m\n\u001b[1;32m   1624\u001b[0m \u001b[38;5;28;01mif\u001b[39;00m data_context \u001b[38;5;129;01mis\u001b[39;00m \u001b[38;5;129;01mnot\u001b[39;00m \u001b[38;5;28;01mNone\u001b[39;00m:\n\u001b[1;32m   1625\u001b[0m     runtime_evaluation_parameters \u001b[38;5;241m=\u001b[39m (\n\u001b[0;32m-> 1626\u001b[0m         data_context\u001b[38;5;241m.\u001b[39mevaluation_parameter_store\u001b[38;5;241m.\u001b[39mget_bind_params(run_id)\n\u001b[1;32m   1627\u001b[0m     )\n\u001b[1;32m   1628\u001b[0m \u001b[38;5;28;01melse\u001b[39;00m:\n\u001b[1;32m   1629\u001b[0m     runtime_evaluation_parameters \u001b[38;5;241m=\u001b[39m {}\n",
      "File \u001b[0;32m~/anaconda3/lib/python3.11/site-packages/great_expectations/data_context/store/metric_store.py:109\u001b[0m, in \u001b[0;36mEvaluationParameterStore.get_bind_params\u001b[0;34m(self, run_id)\u001b[0m\n\u001b[1;32m    107\u001b[0m \u001b[38;5;28;01mfor\u001b[39;00m k \u001b[38;5;129;01min\u001b[39;00m \u001b[38;5;28mself\u001b[39m\u001b[38;5;241m.\u001b[39m_store_backend\u001b[38;5;241m.\u001b[39mlist_keys(run_id\u001b[38;5;241m.\u001b[39mto_tuple()):\n\u001b[1;32m    108\u001b[0m     key \u001b[38;5;241m=\u001b[39m \u001b[38;5;28mself\u001b[39m\u001b[38;5;241m.\u001b[39mtuple_to_key(k)\n\u001b[0;32m--> 109\u001b[0m     params[key\u001b[38;5;241m.\u001b[39mto_evaluation_parameter_urn()] \u001b[38;5;241m=\u001b[39m \u001b[38;5;28mself\u001b[39m\u001b[38;5;241m.\u001b[39mget(key)  \u001b[38;5;66;03m# type: ignore[attr-defined]\u001b[39;00m\n\u001b[1;32m    110\u001b[0m \u001b[38;5;28;01mreturn\u001b[39;00m params\n",
      "File \u001b[0;32m~/anaconda3/lib/python3.11/site-packages/great_expectations/data_context/store/store.py:206\u001b[0m, in \u001b[0;36mStore.get\u001b[0;34m(self, key)\u001b[0m\n\u001b[1;32m    204\u001b[0m         value \u001b[38;5;241m=\u001b[39m \u001b[38;5;28mself\u001b[39m\u001b[38;5;241m.\u001b[39mgx_cloud_response_json_to_object_dict(response_json\u001b[38;5;241m=\u001b[39mvalue)\n\u001b[1;32m    205\u001b[0m \u001b[38;5;28;01melse\u001b[39;00m:\n\u001b[0;32m--> 206\u001b[0m     \u001b[38;5;28mself\u001b[39m\u001b[38;5;241m.\u001b[39m_validate_key(key)\n\u001b[1;32m    207\u001b[0m     value \u001b[38;5;241m=\u001b[39m \u001b[38;5;28mself\u001b[39m\u001b[38;5;241m.\u001b[39m_store_backend\u001b[38;5;241m.\u001b[39mget(\u001b[38;5;28mself\u001b[39m\u001b[38;5;241m.\u001b[39mkey_to_tuple(key))\n\u001b[1;32m    209\u001b[0m \u001b[38;5;28;01mif\u001b[39;00m value:\n",
      "File \u001b[0;32m~/anaconda3/lib/python3.11/site-packages/great_expectations/data_context/store/store.py:128\u001b[0m, in \u001b[0;36mStore._validate_key\u001b[0;34m(self, key)\u001b[0m\n\u001b[1;32m    126\u001b[0m     \u001b[38;5;28;01mreturn\u001b[39;00m\n\u001b[1;32m    127\u001b[0m \u001b[38;5;28;01melse\u001b[39;00m:\n\u001b[0;32m--> 128\u001b[0m     \u001b[38;5;28;01mraise\u001b[39;00m \u001b[38;5;167;01mTypeError\u001b[39;00m(\n\u001b[1;32m    129\u001b[0m         \u001b[38;5;124mf\u001b[39m\u001b[38;5;124m\"\u001b[39m\u001b[38;5;124mkey must be an instance of \u001b[39m\u001b[38;5;132;01m{\u001b[39;00m\u001b[38;5;28mself\u001b[39m\u001b[38;5;241m.\u001b[39mkey_class\u001b[38;5;241m.\u001b[39m\u001b[38;5;18m__name__\u001b[39m\u001b[38;5;132;01m}\u001b[39;00m\u001b[38;5;124m, not \u001b[39m\u001b[38;5;132;01m{\u001b[39;00m\u001b[38;5;28mtype\u001b[39m(key)\u001b[38;5;132;01m}\u001b[39;00m\u001b[38;5;124m\"\u001b[39m\n\u001b[1;32m    130\u001b[0m     )\n",
      "\u001b[0;31mTypeError\u001b[0m: key must be an instance of ValidationMetricIdentifier, not <class 'str'>"
     ]
    }
   ],
   "source": [
    "validation_results = validator.validate()\n",
    "\n",
    "print(validation_results)"
   ]
  }
 ],
 "metadata": {
  "kernelspec": {
   "display_name": "base",
   "language": "python",
   "name": "python3"
  },
  "language_info": {
   "codemirror_mode": {
    "name": "ipython",
    "version": 3
   },
   "file_extension": ".py",
   "mimetype": "text/x-python",
   "name": "python",
   "nbconvert_exporter": "python",
   "pygments_lexer": "ipython3",
   "version": "3.11.7"
  }
 },
 "nbformat": 4,
 "nbformat_minor": 2
}
